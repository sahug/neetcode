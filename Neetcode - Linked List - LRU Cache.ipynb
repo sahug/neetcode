{
  "nbformat": 4,
  "nbformat_minor": 0,
  "metadata": {
    "colab": {
      "name": "Neetcode - Linked List - LRU Cache.ipynb",
      "provenance": [],
      "collapsed_sections": [],
      "authorship_tag": "ABX9TyMlPXSHXr1Zo8/IMTCbUTdV",
      "include_colab_link": true
    },
    "kernelspec": {
      "name": "python3",
      "display_name": "Python 3"
    },
    "language_info": {
      "name": "python"
    }
  },
  "cells": [
    {
      "cell_type": "markdown",
      "metadata": {
        "id": "view-in-github",
        "colab_type": "text"
      },
      "source": [
        "<a href=\"https://colab.research.google.com/github/sahug/neetcode/blob/main/Neetcode%20-%20Linked%20List%20-%20LRU%20Cache.ipynb\" target=\"_parent\"><img src=\"https://colab.research.google.com/assets/colab-badge.svg\" alt=\"Open In Colab\"/></a>"
      ]
    },
    {
      "cell_type": "markdown",
      "source": [
        "**Neetcode - Linked List - LRU Cache**\n",
        "\n",
        "Design a data structure that follows the constraints of a **Least Recently Used (LRU) cache**.\n",
        "\n",
        "Implement the `LRUCache` class:\n",
        "\n",
        "- `LRUCache(int capacity)` Initialize the LRU cache with **positive** size `capacity`.\n",
        "- `int get(int key)` Return the value of the `key` if the key exists, otherwise return `-1`.\n",
        "- `void put(int key, int value)` Update the value of the `key` if the `key` exists. Otherwise, add the `key-value` pair to the cache. If the number of keys exceeds the `capacity` from this operation, **evict** the least recently used key.\n",
        "\n",
        "The functions **get** and **put** must each run in **O(1)** average time complexity.\n",
        "\n",
        "**Example 1:**\n",
        "```\n",
        "[\"LRUCache\", \"put\", \"put\", \"get\", \"put\", \"get\", \"put\", \"get\", \"get\", \"get\"]\n",
        "[[2], [1, 1], [2, 2], [1], [3, 3], [2], [4, 4], [1], [3], [4]]\n",
        "Output\n",
        "[null, null, null, 1, null, -1, null, -1, 3, 4]\n",
        "\n",
        "Explanation\n",
        "LRUCache lRUCache = new LRUCache(2);\n",
        "lRUCache.put(1, 1); // cache is {1=1}\n",
        "lRUCache.put(2, 2); // cache is {1=1, 2=2}\n",
        "lRUCache.get(1);    // return 1\n",
        "lRUCache.put(3, 3); // LRU key was 2, evicts key 2, cache is {1=1, 3=3}\n",
        "lRUCache.get(2);    // returns -1 (not found)\n",
        "lRUCache.put(4, 4); // LRU key was 1, evicts key 1, cache is {4=4, 3=3}\n",
        "lRUCache.get(1);    // return -1 (not found)\n",
        "lRUCache.get(3);    // return 3\n",
        "lRUCache.get(4);    // return 4\n",
        "```"
      ],
      "metadata": {
        "id": "qdLtXtlMOJWF"
      }
    },
    {
      "cell_type": "code",
      "source": [
        "class Node:\n",
        "    def __init__(self, key, val):\n",
        "        self.key, self.val = key, val\n",
        "        self.prev = self.next = None"
      ],
      "metadata": {
        "id": "S-3s7yTXyIwb"
      },
      "execution_count": 53,
      "outputs": []
    },
    {
      "cell_type": "code",
      "source": [
        "class LRUCache:\n",
        "\n",
        "  def __init__(self, capacity: int):\n",
        "      self.cap = capacity\n",
        "      self.cache = {} # map key to node\n",
        "      \n",
        "      self.left, self.right = Node(0, 0), Node(0, 0)\n",
        "      self.left.next, self.right.prev = self.right, self.left\n",
        "\n",
        "  # remove node from list\n",
        "  def remove(self, node):\n",
        "      prev, nxt = node.prev, node.next\n",
        "      prev.next, nxt.prev = nxt, prev\n",
        "  \n",
        "  # insert node at right\n",
        "  def insert(self, node):\n",
        "      prev, nxt = self.right.prev, self.right\n",
        "      prev.next = nxt.prev = node\n",
        "      node.next, node.prev = nxt, prev\n",
        "      \n",
        "  def get(self, key: int) -> int:\n",
        "      if key in self.cache:\n",
        "          self.remove(self.cache[key])\n",
        "          self.insert(self.cache[key])\n",
        "          return self.cache[key].val\n",
        "      return -1\n",
        "      \n",
        "  def put(self, key: int, value: int) -> None:\n",
        "      if key in self.cache:\n",
        "          self.remove(self.cache[key])\n",
        "      self.cache[key] = Node(key, value)\n",
        "      self.insert(self.cache[key])\n",
        "      \n",
        "      if len(self.cache) > self.cap:\n",
        "          # remove from the list and delete the LRU from hashmap\n",
        "          lru = self.left.next\n",
        "          self.remove(lru)\n",
        "          print(lru in self.cache)\n",
        "          del self.cache[lru.key]"
      ],
      "metadata": {
        "id": "p9A5EelMjDaT"
      },
      "execution_count": 54,
      "outputs": []
    },
    {
      "cell_type": "code",
      "source": [
        "lRUCache = LRUCache(2);\n",
        "lRUCache.put(1, 1) \n",
        "lRUCache.put(2, 2)\n",
        "lRUCache.get(1)\n",
        "lRUCache.put(3, 3)\n",
        "lRUCache.get(2)\n",
        "lRUCache.put(4, 4)\n",
        "lRUCache.get(1)\n",
        "lRUCache.get(3)\n",
        "lRUCache.get(4)"
      ],
      "metadata": {
        "colab": {
          "base_uri": "https://localhost:8080/"
        },
        "id": "lDhv2bsNm-Pq",
        "outputId": "59fad650-941a-4e1e-83ec-0ce15f5b8456"
      },
      "execution_count": 55,
      "outputs": [
        {
          "output_type": "stream",
          "name": "stdout",
          "text": [
            "False\n",
            "False\n"
          ]
        },
        {
          "output_type": "execute_result",
          "data": {
            "text/plain": [
              "4"
            ]
          },
          "metadata": {},
          "execution_count": 55
        }
      ]
    }
  ]
}