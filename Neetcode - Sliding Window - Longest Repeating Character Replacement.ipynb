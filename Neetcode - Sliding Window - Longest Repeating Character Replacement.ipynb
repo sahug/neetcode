{
  "nbformat": 4,
  "nbformat_minor": 0,
  "metadata": {
    "colab": {
      "name": "Neetcode - Sliding Window - Longest Repeating Character Replacement.ipynb",
      "provenance": [],
      "authorship_tag": "ABX9TyPFvMG9hhT+tigvjbXQwKGP",
      "include_colab_link": true
    },
    "kernelspec": {
      "name": "python3",
      "display_name": "Python 3"
    },
    "language_info": {
      "name": "python"
    }
  },
  "cells": [
    {
      "cell_type": "markdown",
      "metadata": {
        "id": "view-in-github",
        "colab_type": "text"
      },
      "source": [
        "<a href=\"https://colab.research.google.com/github/sahug/neetcode/blob/main/Neetcode%20-%20Sliding%20Window%20-%20Longest%20Repeating%20Character%20Replacement.ipynb\" target=\"_parent\"><img src=\"https://colab.research.google.com/assets/colab-badge.svg\" alt=\"Open In Colab\"/></a>"
      ]
    },
    {
      "cell_type": "markdown",
      "source": [
        "**Neetcode - Sliding Window - Permutation in String**\n"
      ],
      "metadata": {
        "id": "6nW7FfkgN6dm"
      }
    },
    {
      "cell_type": "markdown",
      "source": [
        "Given two strings **s1** and **s2**, return true if **s2** contains a permutation of **s1**, or false otherwise.\n",
        "\n",
        "In other words, return true if one of **s1**'s permutations is the substring of **s2**.\n",
        "\n",
        "**Example 1:**\n",
        "```\n",
        "Input: s1 = \"ab\", s2 = \"eidbaooo\"\n",
        "Output: true\n",
        "Explanation: s2 contains one permutation of s1 (\"ba\").\n",
        "```\n",
        "\n",
        "**Example 2:**\n",
        "```\n",
        "Input: s1 = \"ab\", s2 = \"eidboaoo\"\n",
        "Output: false\n",
        "```"
      ],
      "metadata": {
        "id": "qdLtXtlMOJWF"
      }
    },
    {
      "cell_type": "code",
      "execution_count": 11,
      "metadata": {
        "id": "HPQX47bpKBWS"
      },
      "outputs": [],
      "source": [
        "from typing import List\n",
        "class Solution:\n",
        "\n",
        "  def permutationInString(self, s1: str, s2: str) -> bool:\n",
        "    # If length not same can not be a permuation: return False\n",
        "    if len(s1) > len(s2): return False\n",
        "\n",
        "    # List for all 26 alphabets. All values 0.\n",
        "    s1Count, s2Count = [0]*26, [0]*26\n",
        "\n",
        "    for i in range(len(s1)):\n",
        "      # For each alphabet appeared in s1: update the index with 1.\n",
        "      s1Count[ord(s1[i]) - ord(\"a\")] += 1\n",
        "      s2Count[ord(s2[i]) - ord(\"a\")] += 1\n",
        "\n",
        "    matches = 0\n",
        "    # Update matches. For all matched valuer add 1. If total 26 that means all characters matched. \n",
        "    for i in range(26):      \n",
        "      matches += (1 if s1Count[i] == s2Count[i] else 0)\n",
        "\n",
        "    l = 0\n",
        "    # Iterate from index 3. As furst 3 index already iterated above.\n",
        "    for r in range(len(s1), len(s2)):\n",
        "      if matches == 26: return True\n",
        "\n",
        "      # Update the list for rest of the char in s2. \n",
        "      index = ord(s2[r]) - ord(\"a\")\n",
        "      s2Count[index] += 1\n",
        "      # If the index vlaues for s1 and s2 matches. + matches.\n",
        "      if s1Count[index] == s2Count[index]:\n",
        "        matches += 1\n",
        "      # Else -1 matches.\n",
        "      elif s1Count[index] + 1 == s2Count[index]:\n",
        "        matches -= 1\n",
        "\n",
        "      # As we move ahead we have to update the matches for the previous compared char to 0.\n",
        "      index = ord(s2[l]) - ord(\"a\")\n",
        "      s2Count[index] -= 1\n",
        "      if s1Count[index] == s2Count[index]:\n",
        "        matches += 1      \n",
        "      elif s1Count[index] - 1 == s2Count[index]:\n",
        "        matches -= 1\n",
        "      \n",
        "      l += 1\n",
        "    return matches == 26    "
      ]
    },
    {
      "cell_type": "code",
      "source": [
        "solution = Solution()\n",
        "print(solution.permutationInString(\"ab\", \"eidbaooo\"))\n",
        "print(solution.permutationInString(\"ab\", \"eidboaoo\"))"
      ],
      "metadata": {
        "colab": {
          "base_uri": "https://localhost:8080/"
        },
        "id": "Fil4vuu_PMK9",
        "outputId": "58c35147-e2e9-47d3-fca8-3f393412e207"
      },
      "execution_count": 12,
      "outputs": [
        {
          "output_type": "stream",
          "name": "stdout",
          "text": [
            "True\n",
            "False\n"
          ]
        }
      ]
    }
  ]
}