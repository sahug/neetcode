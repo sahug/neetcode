{
  "nbformat": 4,
  "nbformat_minor": 0,
  "metadata": {
    "colab": {
      "name": "Neetcode - Sliding Window - Longest Repeating Character Replacement.ipynb",
      "provenance": [],
      "authorship_tag": "ABX9TyME/IZWwEwtLACdPnZ5X0nU",
      "include_colab_link": true
    },
    "kernelspec": {
      "name": "python3",
      "display_name": "Python 3"
    },
    "language_info": {
      "name": "python"
    }
  },
  "cells": [
    {
      "cell_type": "markdown",
      "metadata": {
        "id": "view-in-github",
        "colab_type": "text"
      },
      "source": [
        "<a href=\"https://colab.research.google.com/github/sahug/neetcode/blob/main/Neetcode%20-%20Sliding%20Window%20-%20Longest%20Repeating%20Character%20Replacement.ipynb\" target=\"_parent\"><img src=\"https://colab.research.google.com/assets/colab-badge.svg\" alt=\"Open In Colab\"/></a>"
      ]
    },
    {
      "cell_type": "markdown",
      "source": [
        "**Neetcode - Sliding Window - Longest Repeating Character Replacement**\n"
      ],
      "metadata": {
        "id": "6nW7FfkgN6dm"
      }
    },
    {
      "cell_type": "markdown",
      "source": [
        "You are given a string **s** and an integer **k**. You can choose any character of the string and change it to any other uppercase English character. You can perform this operation at most **k** times.\n",
        "\n",
        "Return the length of the longest substring containing the same letter you can get after performing the above operations.\n",
        "\n",
        "**Example 1:**\n",
        "```\n",
        "Input: s = \"ABAB\", k = 2\n",
        "Output: 4\n",
        "Explanation: Replace the two 'A's with two 'B's or vice versa.\n",
        "```\n",
        "\n",
        "**Example 2:**\n",
        "```\n",
        "Input: s = \"AABABBA\", k = 1\n",
        "Output: 4\n",
        "Explanation: Replace the one 'A' in the middle with 'B' and form \"AABBBBA\".\n",
        "The substring \"BBBB\" has the longest repeating letters, which is 4.\n",
        "```"
      ],
      "metadata": {
        "id": "qdLtXtlMOJWF"
      }
    },
    {
      "cell_type": "code",
      "execution_count": 142,
      "metadata": {
        "id": "HPQX47bpKBWS"
      },
      "outputs": [],
      "source": [
        "from typing import List\n",
        "class Solution:\n",
        "\n",
        "  def longestRepeating(self, s: str, k: int) -> int:\n",
        "    l, r, longest = 0, 1, 0\n",
        "    arr = list() \n",
        "    arr.append(s[0])    \n",
        "    while r < len(s):  \n",
        "      if s[r] in arr:\n",
        "        arr.append(s[r])\n",
        "      elif k != 0:    \n",
        "        arr.append(s[l])        \n",
        "        k -= 1  \n",
        "        l = r        \n",
        "      else:\n",
        "        arr = []\n",
        "      r += 1\n",
        "      longest = max(longest, len(arr))\n",
        "    return longest\n"
      ]
    },
    {
      "cell_type": "code",
      "source": [
        "solution = Solution()\n",
        "print(solution.longestRepeating(\"ABAB\", 2))\n",
        "print(solution.longestRepeating(\"AABABA\", 1))"
      ],
      "metadata": {
        "colab": {
          "base_uri": "https://localhost:8080/"
        },
        "id": "Fil4vuu_PMK9",
        "outputId": "fa48fd35-0196-4b04-9b38-2b63f5f0aae3"
      },
      "execution_count": 147,
      "outputs": [
        {
          "output_type": "stream",
          "name": "stdout",
          "text": [
            "4\n",
            "4\n"
          ]
        }
      ]
    }
  ]
}