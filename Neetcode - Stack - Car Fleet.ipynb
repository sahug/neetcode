{
  "nbformat": 4,
  "nbformat_minor": 0,
  "metadata": {
    "colab": {
      "name": "Neetcode - Stack - Car Fleet.ipynb",
      "provenance": [],
      "authorship_tag": "ABX9TyP5HOGfTLO+g9TkVtAgGmqO",
      "include_colab_link": true
    },
    "kernelspec": {
      "name": "python3",
      "display_name": "Python 3"
    },
    "language_info": {
      "name": "python"
    }
  },
  "cells": [
    {
      "cell_type": "markdown",
      "metadata": {
        "id": "view-in-github",
        "colab_type": "text"
      },
      "source": [
        "<a href=\"https://colab.research.google.com/github/sahug/neetcode/blob/main/Neetcode%20-%20Stack%20-%20Car%20Fleet.ipynb\" target=\"_parent\"><img src=\"https://colab.research.google.com/assets/colab-badge.svg\" alt=\"Open In Colab\"/></a>"
      ]
    },
    {
      "cell_type": "markdown",
      "source": [
        "**Neetcode - Stack - Car Fleet**\n"
      ],
      "metadata": {
        "id": "6nW7FfkgN6dm"
      }
    },
    {
      "cell_type": "markdown",
      "source": [
        "There are `n` cars going to the same destination along a one-lane road. The destination is `target` miles away.\n",
        "\n",
        "You are given two integer array `position` and `speed`, both of length `n`, where `position[i]` is the position of the `ith` car and `speed[i]` is the speed of the `ith` car (in miles per hour).\n",
        "\n",
        "A car can never pass another car ahead of it, but it can catch up to it and drive bumper to bumper **at the same speed**. The faster car will **slow** **down** to match the slower car's speed. The distance between these two cars is ignored (i.e., they are assumed to have the same position).\n",
        "\n",
        "A **car fleet** is some non-empty set of cars driving at the same position and same speed. Note that a single car is also a car fleet.\n",
        "\n",
        "If a car catches up to a car fleet right at the destination point, it will still be considered as one car fleet.\n",
        "\n",
        "Return the **number of car fleets** that will arrive at the destination.\n",
        "\n",
        "**Example 1:**\n",
        "```\n",
        "Input: target = 12, position = [10,8,0,5,3], speed = [2,4,1,1,3]\n",
        "Output: 3\n",
        "Explanation:\n",
        "The cars starting at 10 (speed 2) and 8 (speed 4) become a fleet, meeting each other at 12.\n",
        "The car starting at 0 does not catch up to any other car, so it is a fleet by itself.\n",
        "The cars starting at 5 (speed 1) and 3 (speed 3) become a fleet, meeting each other at 6. The fleet moves at speed 1 until it reaches target.\n",
        "Note that no other cars meet these fleets before the destination, so the answer is 3.\n",
        "```\n",
        "\n",
        "**Example 2:**\n",
        "```\n",
        "Input: target = 10, position = [3], speed = [3]\n",
        "Output: 1\n",
        "Explanation: There is only one car, hence there is only one fleet.\n",
        "```\n",
        "\n",
        "**Example 3:**\n",
        "```\n",
        "Input: target = 100, position = [0,2,4], speed = [4,2,1]\n",
        "Output: 1\n",
        "Explanation:\n",
        "The cars starting at 0 (speed 4) and 2 (speed 2) become a fleet, meeting each other at 4. The fleet moves at speed 2.\n",
        "Then, the fleet (speed 2) and the car starting at 4 (speed 1) become one fleet, meeting each other at 6. The fleet moves at speed 1 until it reaches target.\n",
        "```"
      ],
      "metadata": {
        "id": "qdLtXtlMOJWF"
      }
    },
    {
      "cell_type": "code",
      "execution_count": 38,
      "metadata": {
        "id": "HPQX47bpKBWS"
      },
      "outputs": [],
      "source": [
        "from typing import List\n",
        "class Solution():\n",
        "\n",
        "  # Calculate the time each time will reach the target. (Target - Position/Speed)\n",
        "  # If the cars behind has less time than car in from they will cloide and become one flee and so on.\n",
        "  \n",
        "  def carFleet(self, target: int, position: List[int], speed: List[int]) -> int:\n",
        "    \n",
        "    pair = [[p,s] for p, s in zip(position, speed)]\n",
        "\n",
        "    stack = []\n",
        "    for p, s in sorted(pair)[::-1]: # Reverse Sorted Order\n",
        "      stack.append((target - p) / s)\n",
        "      if len(stack) >= 2 and stack[-1] <= stack[-2]:\n",
        "          stack.pop()\n",
        "    return len(stack)  \n",
        "    "
      ]
    },
    {
      "cell_type": "code",
      "source": [
        "solution = Solution()\n",
        "print(solution.carFleet(12, [10,8,0,5,3], [2,4,1,1,3]))\n",
        "print(solution.carFleet(10, [3], [3]))\n",
        "print(solution.carFleet(10, [0,2,4], [4,2,1]))"
      ],
      "metadata": {
        "colab": {
          "base_uri": "https://localhost:8080/"
        },
        "id": "Fil4vuu_PMK9",
        "outputId": "c0c38448-a8b6-45d5-de12-15037df3aee9"
      },
      "execution_count": 40,
      "outputs": [
        {
          "output_type": "stream",
          "name": "stdout",
          "text": [
            "3\n",
            "1\n",
            "1\n"
          ]
        }
      ]
    }
  ]
}