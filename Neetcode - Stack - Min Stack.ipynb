{
  "nbformat": 4,
  "nbformat_minor": 0,
  "metadata": {
    "colab": {
      "name": "Neetcode - Stack - Min Stack.ipynb",
      "provenance": [],
      "authorship_tag": "ABX9TyMQybFWC/z6GBRKfJxm4MFE",
      "include_colab_link": true
    },
    "kernelspec": {
      "name": "python3",
      "display_name": "Python 3"
    },
    "language_info": {
      "name": "python"
    }
  },
  "cells": [
    {
      "cell_type": "markdown",
      "metadata": {
        "id": "view-in-github",
        "colab_type": "text"
      },
      "source": [
        "<a href=\"https://colab.research.google.com/github/sahug/neetcode/blob/main/Neetcode%20-%20Stack%20-%20Min%20Stack.ipynb\" target=\"_parent\"><img src=\"https://colab.research.google.com/assets/colab-badge.svg\" alt=\"Open In Colab\"/></a>"
      ]
    },
    {
      "cell_type": "markdown",
      "source": [
        "**Neetcode - Stack - Min Stack**\n"
      ],
      "metadata": {
        "id": "6nW7FfkgN6dm"
      }
    },
    {
      "cell_type": "markdown",
      "source": [
        "Design a stack that supports push, pop, top, and retrieving the minimum element in constant time.\n",
        "\n",
        "Implement the **MinStack** class:\n",
        "\n",
        "- **MinStack()** initializes the stack object.\n",
        "- **void push(int val)** pushes the element val onto the stack.\n",
        "- **void pop()** removes the element on the top of the stack.\n",
        "- **int top()** gets the top element of the stack.\n",
        "- **int getMin()** retrieves the minimum element in the stack.\n",
        "\n",
        "**Example 1:**\n",
        "```\n",
        "Input\n",
        "[\"MinStack\",\"push\",\"push\",\"push\",\"getMin\",\"pop\",\"top\",\"getMin\"]\n",
        "[[],[-2],[0],[-3],[],[],[],[]]\n",
        "\n",
        "Output\n",
        "[null,null,null,null,-3,null,0,-2]\n",
        "\n",
        "Explanation\n",
        "MinStack minStack = new MinStack();\n",
        "minStack.push(-2);\n",
        "minStack.push(0);\n",
        "minStack.push(-3);\n",
        "minStack.getMin(); // return -3\n",
        "minStack.pop();\n",
        "minStack.top();    // return 0\n",
        "minStack.getMin(); // return -2\n",
        "```"
      ],
      "metadata": {
        "id": "qdLtXtlMOJWF"
      }
    },
    {
      "cell_type": "code",
      "execution_count": 140,
      "metadata": {
        "id": "HPQX47bpKBWS"
      },
      "outputs": [],
      "source": [
        "from collections import deque\n",
        "class MinStack():\n",
        "\n",
        "  def __init__(self):\n",
        "    self.deque = deque()\n",
        "\n",
        "  def push(self, val: int) -> None:\n",
        "    self.deque.append(val)\n",
        "\n",
        "  def pop(self) -> None:\n",
        "    self.deque.pop()\n",
        "\n",
        "  def top(self) -> int:  \n",
        "    return self.deque[-1]\n",
        "\n",
        "  def getMin(self) -> int:\n",
        "    return min(self.deque)"
      ]
    },
    {
      "cell_type": "code",
      "source": [
        "minStack = MinStack()\n",
        "minStack.push(-2)\n",
        "minStack.push(0)\n",
        "minStack.push(-3)\n",
        "print(minStack.getMin())\n",
        "minStack.pop()\n",
        "print(minStack.top())\n",
        "print(minStack.getMin())"
      ],
      "metadata": {
        "colab": {
          "base_uri": "https://localhost:8080/"
        },
        "id": "Fil4vuu_PMK9",
        "outputId": "da0182bc-1ac6-4123-963f-91b8341e66cf"
      },
      "execution_count": 142,
      "outputs": [
        {
          "output_type": "stream",
          "name": "stdout",
          "text": [
            "-3\n",
            "0\n",
            "-2\n"
          ]
        }
      ]
    }
  ]
}