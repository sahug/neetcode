{
  "nbformat": 4,
  "nbformat_minor": 0,
  "metadata": {
    "colab": {
      "name": "Neetcode - Array - Encode and Decode Strings.ipynb",
      "provenance": [],
      "authorship_tag": "ABX9TyOx+T6dVRoo+lDnR2ruS54d",
      "include_colab_link": true
    },
    "kernelspec": {
      "name": "python3",
      "display_name": "Python 3"
    },
    "language_info": {
      "name": "python"
    }
  },
  "cells": [
    {
      "cell_type": "markdown",
      "metadata": {
        "id": "view-in-github",
        "colab_type": "text"
      },
      "source": [
        "<a href=\"https://colab.research.google.com/github/sahug/neetcode/blob/main/Neetcode%20-%20Array%20-%20Encode%20and%20Decode%20Strings.ipynb\" target=\"_parent\"><img src=\"https://colab.research.google.com/assets/colab-badge.svg\" alt=\"Open In Colab\"/></a>"
      ]
    },
    {
      "cell_type": "markdown",
      "source": [
        "**Neetcode - Array - Encode and Decode Strings**"
      ],
      "metadata": {
        "id": "0AgtVKj7vAti"
      }
    },
    {
      "cell_type": "markdown",
      "source": [
        "Design an algorithm to encode a list of strings to a string. The encoded string is then sent over the network and is decoded back to the original list of strings.\n",
        "\n",
        "Please implement encode and decode.\n",
        "\n",
        "**Example 1**\n",
        "\n",
        "```\n",
        "Input: [\"lint\",\"code\",\"love\",\"you\"]\n",
        "Output: [\"lint\",\"code\",\"love\",\"you\"]\n",
        "Explanation:\n",
        "One possible encode method is: \"lint:;code:;love:;you\"\n",
        "```\n",
        "\n",
        "**Example 2**\n",
        "```\n",
        "Input: [\"we\", \"say\", \":\", \"yes\"]\n",
        "Output: [\"we\", \"say\", \":\", \"yes\"]\n",
        "Explanation:\n",
        "One possible encode method is: \"we:;say:;:::;yes\"\n",
        "```"
      ],
      "metadata": {
        "id": "2DXu5QJ1u3XD"
      }
    },
    {
      "cell_type": "code",
      "source": [
        "from typing import List\n",
        "from collections import defaultdict\n",
        "class Solution:\n",
        "  def encode(self, strs):    \n",
        "    res = \"\"\n",
        "    for s in strs:\n",
        "      res += str(len(s)) + \"#\" + s\n",
        "    return res\n",
        "\n",
        "  def decode(self, str):\n",
        "    res, i = [], 0\n",
        "\n",
        "    while i < len(str):\n",
        "        j = i\n",
        "        while str[j] != \"#\":\n",
        "            j += 1\n",
        "        length = int(str[i:j])\n",
        "        res.append(str[j + 1 : j + 1 + length])\n",
        "        i = j + 1 + length\n",
        "    return res      "
      ],
      "metadata": {
        "id": "0iNTz4FD1bE8"
      },
      "execution_count": 11,
      "outputs": []
    },
    {
      "cell_type": "code",
      "source": [
        "solution = Solution()\n",
        "enc = solution.encode([\"lint\",\"code\",\"love\",\"you\"])\n",
        "print(enc)\n",
        "print(solution.decode(enc))\n",
        "\n",
        "enc = solution.encode([\"we\", \"say\", \":\", \"yes\"])\n",
        "print(enc)\n",
        "print(solution.decode(enc))\n"
      ],
      "metadata": {
        "colab": {
          "base_uri": "https://localhost:8080/"
        },
        "id": "Vm4Xy22g18vp",
        "outputId": "c6845f14-47db-4c0a-8007-65aea66b091e"
      },
      "execution_count": 12,
      "outputs": [
        {
          "output_type": "stream",
          "name": "stdout",
          "text": [
            "4#lint4#code4#love3#you\n",
            "['lint', 'code', 'love', 'you']\n",
            "2#we3#say1#:3#yes\n",
            "['we', 'say', ':', 'yes']\n"
          ]
        }
      ]
    }
  ]
}