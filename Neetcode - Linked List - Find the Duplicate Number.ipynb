{
  "nbformat": 4,
  "nbformat_minor": 0,
  "metadata": {
    "colab": {
      "name": "Neetcode - Linked List - Find the Duplicate Number.ipynb",
      "provenance": [],
      "collapsed_sections": [],
      "authorship_tag": "ABX9TyN4E6PVxh6gPNtvWXdlLLIg",
      "include_colab_link": true
    },
    "kernelspec": {
      "name": "python3",
      "display_name": "Python 3"
    },
    "language_info": {
      "name": "python"
    }
  },
  "cells": [
    {
      "cell_type": "markdown",
      "metadata": {
        "id": "view-in-github",
        "colab_type": "text"
      },
      "source": [
        "<a href=\"https://colab.research.google.com/github/sahug/neetcode/blob/main/Neetcode%20-%20Linked%20List%20-%20Find%20the%20Duplicate%20Number.ipynb\" target=\"_parent\"><img src=\"https://colab.research.google.com/assets/colab-badge.svg\" alt=\"Open In Colab\"/></a>"
      ]
    },
    {
      "cell_type": "markdown",
      "source": [
        "**Neetcode - Linked List - Find the Duplicate Number**\n",
        "\n",
        "Given an array of integers `nums` containing `n + 1` integers where each integer is in the range `[1, n]` inclusive.\n",
        "\n",
        "There is only **one repeated number** in `nums`, return this repeated number.\n",
        "\n",
        "You must solve the problem **without** modifying the array nums and uses only constant extra space.\n",
        "\n",
        "**Example 1:**\n",
        "```\n",
        "Input: nums = [1,3,4,2,2]\n",
        "Output: 2\n",
        "```\n",
        "\n",
        "**Example 2:**\n",
        "```\n",
        "Input: nums = [3,1,3,4,2]\n",
        "Output: 3\n",
        "```"
      ],
      "metadata": {
        "id": "qdLtXtlMOJWF"
      }
    },
    {
      "cell_type": "code",
      "source": [
        "class Node():\n",
        "\n",
        "  def __init__(self, data, next):\n",
        "    self.data = data\n",
        "    self.next = next\n",
        "\n",
        "class LinkedList():\n",
        "\n",
        "  def __init__(self):\n",
        "    self.head = None\n",
        "    \n",
        "  def add(self, data):    \n",
        "    if self.head is None:      \n",
        "      self.head = Node(data, None)      \n",
        "      return\n",
        "       \n",
        "    itr = self.head     \n",
        "\n",
        "    while itr.next:        \n",
        "      itr = itr.next\n",
        "\n",
        "    itr.next = Node(data, None)\n",
        "  \n",
        "  def print(self):\n",
        "  # If LL is empty \n",
        "    if self.head is None:\n",
        "      print(\"Linked List is empty\")\n",
        "      return\n",
        "\n",
        "    itr = self.head\n",
        "\n",
        "    l_l_str = \"\"\n",
        "\n",
        "    while itr:\n",
        "      l_l_str += str(itr.data) + \"--->\"\n",
        "      itr = itr.next\n",
        "\n",
        "    print(l_l_str)"
      ],
      "metadata": {
        "id": "S-3s7yTXyIwb"
      },
      "execution_count": 28,
      "outputs": []
    },
    {
      "cell_type": "markdown",
      "source": [
        "**O(n) Way**"
      ],
      "metadata": {
        "id": "oeuctCzRBxOI"
      }
    },
    {
      "cell_type": "code",
      "execution_count": 36,
      "metadata": {
        "id": "HPQX47bpKBWS"
      },
      "outputs": [],
      "source": [
        "class Solution():\n",
        "  \n",
        "  def duplicateNumber(self, ll: LinkedList) -> int:\n",
        "    \n",
        "    d = dict()\n",
        "\n",
        "    itr = ll.head\n",
        "\n",
        "    while itr:      \n",
        "      if itr.data in d:\n",
        "        return itr.data\n",
        "      else: d[itr.data] = 1\n",
        "      itr = itr.next"
      ]
    },
    {
      "cell_type": "code",
      "source": [
        "linkedList = LinkedList()\n",
        "linkedList.add(1)\n",
        "linkedList.add(3)\n",
        "linkedList.add(4)\n",
        "linkedList.add(2)\n",
        "linkedList.add(2)\n",
        "\n",
        "solution = Solution()\n",
        "solution.duplicateNumber(linkedList)"
      ],
      "metadata": {
        "colab": {
          "base_uri": "https://localhost:8080/"
        },
        "id": "tmZ2UxlyKzUq",
        "outputId": "d73f3e7d-6ad7-48ea-8f56-b83861080092"
      },
      "execution_count": 37,
      "outputs": [
        {
          "output_type": "execute_result",
          "data": {
            "text/plain": [
              "2"
            ]
          },
          "metadata": {},
          "execution_count": 37
        }
      ]
    },
    {
      "cell_type": "code",
      "source": [
        "linkedList = LinkedList()\n",
        "linkedList.add(3)\n",
        "linkedList.add(1)\n",
        "linkedList.add(3)\n",
        "linkedList.add(4)\n",
        "linkedList.add(2)\n",
        "\n",
        "solution = Solution()\n",
        "solution.duplicateNumber(linkedList)"
      ],
      "metadata": {
        "colab": {
          "base_uri": "https://localhost:8080/"
        },
        "id": "AdGk69wOLXvQ",
        "outputId": "7ab2eaf8-0f48-4034-b74c-01dca360014d"
      },
      "execution_count": 38,
      "outputs": [
        {
          "output_type": "execute_result",
          "data": {
            "text/plain": [
              "3"
            ]
          },
          "metadata": {},
          "execution_count": 38
        }
      ]
    },
    {
      "cell_type": "markdown",
      "source": [
        "**Optimized Way**\n",
        "\n",
        "If we draw the nums as a LinkedList we will see that there is a loop formed where the number repeats. Now the question how do we find the point where the loop begins because that's where we will find the duplicate number.\n",
        "\n",
        "We will use **slow** and **fast** pointers here. `2 * slow = fast`\n",
        "\n",
        "Let's say:\n",
        "```\n",
        "p = # of nodes before the cycle\n",
        "c = # of nodes in the cycle\n",
        "x = # of nodes between where fast and slow pointer meet to the start of the cycle.\n",
        "```\n",
        "Using the above equation: `2 * slow = fast`\n",
        "```\n",
        "=> 2 (p + c - x) = p + 2c -x \n",
        "=> p - x = 0\n",
        "```\n"
      ],
      "metadata": {
        "id": "FxXCwuTuOnDm"
      }
    },
    {
      "cell_type": "code",
      "source": [
        "from typing import List\n",
        "class Solution():\n",
        "  \n",
        "  def duplicateNumber(self, nums: List) -> int:\n",
        "    slow, fast = 0, 0\n",
        "    while True:\n",
        "      slow = nums[slow]\n",
        "      fast = nums[nums[fast]]\n",
        "      if slow == fast:\n",
        "        break\n",
        "    \n",
        "    slow2 = 0\n",
        "    while True:\n",
        "      slow = nums[slow]\n",
        "      slow2 = nums[slow2]\n",
        "      if slow == slow2:\n",
        "        return slow    "
      ],
      "metadata": {
        "id": "JpaBEhU9Qw1M"
      },
      "execution_count": 41,
      "outputs": []
    },
    {
      "cell_type": "code",
      "source": [
        "nums = [1,3,4,2,2]\n",
        "solution = Solution()\n",
        "solution.duplicateNumber(nums)"
      ],
      "metadata": {
        "colab": {
          "base_uri": "https://localhost:8080/"
        },
        "id": "YNcTwGRoRflT",
        "outputId": "b943a4ca-d2b4-47ff-82ed-e1542e1ca197"
      },
      "execution_count": 42,
      "outputs": [
        {
          "output_type": "execute_result",
          "data": {
            "text/plain": [
              "2"
            ]
          },
          "metadata": {},
          "execution_count": 42
        }
      ]
    },
    {
      "cell_type": "code",
      "source": [
        "nums = [3,1,3,4,2]\n",
        "solution = Solution()\n",
        "solution.duplicateNumber(nums)"
      ],
      "metadata": {
        "colab": {
          "base_uri": "https://localhost:8080/"
        },
        "id": "CyMz-ad2Rpku",
        "outputId": "dfff9e77-fe9b-4eb9-c5f6-2483e4474b73"
      },
      "execution_count": 43,
      "outputs": [
        {
          "output_type": "execute_result",
          "data": {
            "text/plain": [
              "3"
            ]
          },
          "metadata": {},
          "execution_count": 43
        }
      ]
    }
  ]
}