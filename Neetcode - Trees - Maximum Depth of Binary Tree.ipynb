{
  "nbformat": 4,
  "nbformat_minor": 0,
  "metadata": {
    "colab": {
      "name": "Neetcode - Trees - Maximum Depth of Binary Tree.ipynb",
      "provenance": [],
      "authorship_tag": "ABX9TyPKON+MjKHAhA4wfs16VQ6Q",
      "include_colab_link": true
    },
    "kernelspec": {
      "name": "python3",
      "display_name": "Python 3"
    },
    "language_info": {
      "name": "python"
    }
  },
  "cells": [
    {
      "cell_type": "markdown",
      "metadata": {
        "id": "view-in-github",
        "colab_type": "text"
      },
      "source": [
        "<a href=\"https://colab.research.google.com/github/sahug/neetcode/blob/main/Neetcode%20-%20Trees%20-%20Maximum%20Depth%20of%20Binary%20Tree.ipynb\" target=\"_parent\"><img src=\"https://colab.research.google.com/assets/colab-badge.svg\" alt=\"Open In Colab\"/></a>"
      ]
    },
    {
      "cell_type": "markdown",
      "source": [
        "**Neetcode - Trees - Maximum Depth of Binary Tree**\n",
        "\n",
        "Given the root of a binary tree, return its maximum depth.\n",
        "\n",
        "A binary tree's maximum depth is the number of nodes along the longest path from the root node down to the farthest leaf node.\n",
        "\n",
        "**Example 1:**\n",
        "![image.png](data:image/png;base64,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)\n",
        "```\n",
        "Input: root = [3,9,20,null,null,15,7]\n",
        "Output: 3\n",
        "```\n",
        "\n",
        "**Example 2:**\n",
        "\n",
        "```\n",
        "Input: root = [1,null,2]\n",
        "Output: 2\n",
        "```"
      ],
      "metadata": {
        "id": "HTy3aENlQp4Y"
      }
    },
    {
      "cell_type": "code",
      "source": [
        "class Node():\n",
        "\n",
        "  def __init__(self, data):\n",
        "    self.data = data\n",
        "    self.left = None\n",
        "    self.right = None\n"
      ],
      "metadata": {
        "id": "CsTnCpoGRE6M"
      },
      "execution_count": 1,
      "outputs": []
    },
    {
      "cell_type": "code",
      "execution_count": 2,
      "metadata": {
        "id": "JCl8k-L8Qfn5"
      },
      "outputs": [],
      "source": [
        "class Tree():\n",
        "\n",
        "  def createNode(self, data):\n",
        "    return Node(data)\n",
        "\n",
        "  def addChild(self, node, data):\n",
        "    if node is None:\n",
        "      return self.createNode(data)\n",
        "\n",
        "    if data < node.data:\n",
        "      node.left = self.addChild(node.left, data)\n",
        "    else: \n",
        "      node.right = self.addChild(node.right, data)\n",
        "\n",
        "    return node     \n",
        "\n",
        "  def inorderTraversal(self, root):\n",
        "    if root is not None:\n",
        "      self.inorderTraversal(root.left)\n",
        "      print(root.data)\n",
        "      self.inorderTraversal(root.right)"
      ]
    },
    {
      "cell_type": "markdown",
      "source": [
        "**Bredth First Search**"
      ],
      "metadata": {
        "id": "lgNNTATTsrMb"
      }
    },
    {
      "cell_type": "code",
      "source": [
        "from collections import deque\n",
        "class Solution():\n",
        "\n",
        "  def maximumDepthOfBinaryTree(self, root) -> Tree:      \n",
        "    if  root is None:\n",
        "      return 0\n",
        "    \n",
        "    level = 0\n",
        "    q = deque([root])\n",
        "    while q:\n",
        "      for i in range(len(q)):\n",
        "        node = q.popleft()\n",
        "        if node.left:\n",
        "          q.append(node.left)\n",
        "        if node.right:\n",
        "          q.append(node.right)\n",
        "      level +=1 \n",
        "    return level\n",
        "    "
      ],
      "metadata": {
        "id": "OTbxiIXKWjxu"
      },
      "execution_count": 33,
      "outputs": []
    },
    {
      "cell_type": "markdown",
      "source": [
        "**Iterative Depth First Search**"
      ],
      "metadata": {
        "id": "DRnDbNMNsuc4"
      }
    },
    {
      "cell_type": "code",
      "source": [
        "tree = Tree()\n",
        "root = tree.createNode(3)\n",
        "tree.addChild(root, 9)\n",
        "tree.addChild(root, 20)\n",
        "tree.addChild(root, 15)\n",
        "tree.addChild(root, 7)\n",
        "tree.inorderTraversal(root)"
      ],
      "metadata": {
        "colab": {
          "base_uri": "https://localhost:8080/"
        },
        "id": "_jCoTZDHVc2a",
        "outputId": "93094c2a-76ad-4e91-ea96-99aa22eeacc2"
      },
      "execution_count": 34,
      "outputs": [
        {
          "output_type": "stream",
          "name": "stdout",
          "text": [
            "3\n",
            "7\n",
            "9\n",
            "15\n",
            "20\n"
          ]
        }
      ]
    },
    {
      "cell_type": "code",
      "source": [
        "solution = Solution()\n",
        "print(solution.maximumDepthOfBinaryTree(root))"
      ],
      "metadata": {
        "colab": {
          "base_uri": "https://localhost:8080/"
        },
        "id": "sjx24ZAaXr4N",
        "outputId": "540daa55-ed4e-40d0-8180-6d07e614b66e"
      },
      "execution_count": 32,
      "outputs": [
        {
          "output_type": "stream",
          "name": "stdout",
          "text": [
            "4\n"
          ]
        }
      ]
    },
    {
      "cell_type": "code",
      "source": [
        "class Solution:\n",
        "    def maximumDepthOfBinaryTree(self, root) -> int:\n",
        "        stack = [[root, 1]]\n",
        "        res = 0\n",
        "        \n",
        "        while stack:\n",
        "            node, depth = stack.pop()\n",
        "        \n",
        "            if node:\n",
        "                res = max(res, depth)\n",
        "                stack.append([node.left, depth + 1])\n",
        "                stack.append([node.right, depth + 1])\n",
        "        return res"
      ],
      "metadata": {
        "id": "xU0t23mxs1js"
      },
      "execution_count": 41,
      "outputs": []
    },
    {
      "cell_type": "code",
      "source": [
        "tree = Tree()\n",
        "root = tree.createNode(3)\n",
        "tree.addChild(root, 9)\n",
        "tree.addChild(root, 20)\n",
        "tree.addChild(root, 15)\n",
        "tree.addChild(root, 7)\n",
        "tree.inorderTraversal(root)"
      ],
      "metadata": {
        "colab": {
          "base_uri": "https://localhost:8080/"
        },
        "outputId": "1164f928-d4c9-4fb1-c1c8-8c2139511dcc",
        "id": "R0JM_7nms9UG"
      },
      "execution_count": 37,
      "outputs": [
        {
          "output_type": "stream",
          "name": "stdout",
          "text": [
            "3\n",
            "7\n",
            "9\n",
            "15\n",
            "20\n"
          ]
        }
      ]
    },
    {
      "cell_type": "code",
      "source": [
        "solution = Solution()\n",
        "print(solution.maximumDepthOfBinaryTree(root))"
      ],
      "metadata": {
        "colab": {
          "base_uri": "https://localhost:8080/"
        },
        "outputId": "e51768ab-6ad7-4b8c-c797-83ce1a90ae66",
        "id": "ZXSAewmks9UG"
      },
      "execution_count": 42,
      "outputs": [
        {
          "output_type": "stream",
          "name": "stdout",
          "text": [
            "4\n"
          ]
        }
      ]
    }
  ]
}