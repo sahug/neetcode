{
  "nbformat": 4,
  "nbformat_minor": 0,
  "metadata": {
    "colab": {
      "name": "Neetcode - 2 Pointers - Trapping Rain Water.ipynb",
      "provenance": [],
      "authorship_tag": "ABX9TyPhh1Pp8QXzOIqRmt4n1lik",
      "include_colab_link": true
    },
    "kernelspec": {
      "name": "python3",
      "display_name": "Python 3"
    },
    "language_info": {
      "name": "python"
    }
  },
  "cells": [
    {
      "cell_type": "markdown",
      "metadata": {
        "id": "view-in-github",
        "colab_type": "text"
      },
      "source": [
        "<a href=\"https://colab.research.google.com/github/sahug/neetcode/blob/main/Neetcode%20-%202%20Pointers%20-%20Trapping%20Rain%20Water.ipynb\" target=\"_parent\"><img src=\"https://colab.research.google.com/assets/colab-badge.svg\" alt=\"Open In Colab\"/></a>"
      ]
    },
    {
      "cell_type": "markdown",
      "source": [
        "**Neetcode - 2 Pointers - Trapping Rain Water**"
      ],
      "metadata": {
        "id": "6nW7FfkgN6dm"
      }
    },
    {
      "cell_type": "markdown",
      "source": [
        "Given **n** non-negative integers representing an elevation map where the width of each bar is **1**, compute how much water it can trap after raining.\n",
        "\n",
        "**Example 1:**\n",
        "![image.png](data:image/png;base64,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)\n",
        "\n",
        "```\n",
        "Input: height = [0,1,0,2,1,0,1,3,2,1,2,1]\n",
        "Output: 6\n",
        "Explanation: The above elevation map (black section) is represented by array \n",
        "[0,1,0,2,1,0,1,3,2,1,2,1]. In this case, 6 units of rain water (blue section) are being trapped.\n",
        "```\n",
        "\n",
        "**Example 2:**\n",
        "```\n",
        "Input: height = [4,2,0,3,2,5]\n",
        "Output: 9\n",
        "```"
      ],
      "metadata": {
        "id": "qdLtXtlMOJWF"
      }
    },
    {
      "cell_type": "code",
      "execution_count": 82,
      "metadata": {
        "id": "HPQX47bpKBWS"
      },
      "outputs": [],
      "source": [
        "from typing import List\n",
        "class Solution:\n",
        "\n",
        "  def trapingRainWater(self, height: List[int]) -> List[int]:\n",
        "    if not height: return 0\n",
        "        \n",
        "    l, r = 0, len(height) - 1\n",
        "\n",
        "    leftMax, rightMax = height[l], height[r]\n",
        "    res = 0\n",
        "    \n",
        "    while l < r:\n",
        "        if leftMax < rightMax:\n",
        "            l += 1\n",
        "            leftMax = max(leftMax, height[l])\n",
        "            res += leftMax - height[l]\n",
        "        else:\n",
        "            r -= 1\n",
        "            rightMax = max(rightMax, height[r])\n",
        "            res += rightMax - height[r]\n",
        "    print(res)"
      ]
    },
    {
      "cell_type": "code",
      "source": [
        "solution = Solution()\n",
        "solution.trapingRainWater([0,1,0,2,1,0,1,3,2,1,2,1])\n",
        "solution.trapingRainWater([4,2,0,3,2,5])"
      ],
      "metadata": {
        "colab": {
          "base_uri": "https://localhost:8080/"
        },
        "id": "Fil4vuu_PMK9",
        "outputId": "ec87329c-85e2-4ac7-d6eb-8d467bc46d69"
      },
      "execution_count": 83,
      "outputs": [
        {
          "output_type": "stream",
          "name": "stdout",
          "text": [
            "6\n",
            "9\n"
          ]
        }
      ]
    }
  ]
}