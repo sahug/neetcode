{
  "nbformat": 4,
  "nbformat_minor": 0,
  "metadata": {
    "colab": {
      "name": "Neetcode - Stack - Evaluate Reverse Polish Notation.ipynb",
      "provenance": [],
      "authorship_tag": "ABX9TyMs8Ddx8IV6GXvJrP6tXftq",
      "include_colab_link": true
    },
    "kernelspec": {
      "name": "python3",
      "display_name": "Python 3"
    },
    "language_info": {
      "name": "python"
    }
  },
  "cells": [
    {
      "cell_type": "markdown",
      "metadata": {
        "id": "view-in-github",
        "colab_type": "text"
      },
      "source": [
        "<a href=\"https://colab.research.google.com/github/sahug/neetcode/blob/main/Neetcode%20-%20Stack%20-%20Evaluate%20Reverse%20Polish%20Notation.ipynb\" target=\"_parent\"><img src=\"https://colab.research.google.com/assets/colab-badge.svg\" alt=\"Open In Colab\"/></a>"
      ]
    },
    {
      "cell_type": "markdown",
      "source": [
        "**Neetcode - Stack - Evaluate Reverse Polish Notation**\n"
      ],
      "metadata": {
        "id": "6nW7FfkgN6dm"
      }
    },
    {
      "cell_type": "markdown",
      "source": [
        "Evaluate the value of an arithmetic expression in Reverse Polish Notation.\n",
        "\n",
        "Valid operators are `+, -, *,` and `/`. Each operand may be an integer or another expression.\n",
        "\n",
        "**Note** that division between two integers should truncate toward zero.\n",
        "\n",
        "It is guaranteed that the given RPN expression is always valid. That means the expression would always evaluate to a result, and there will not be any division by zero operation.\n",
        "\n",
        "**Example 1:**\n",
        "```\n",
        "Input: tokens = [\"2\",\"1\",\"+\",\"3\",\"*\"]\n",
        "Output: 9\n",
        "Explanation: ((2 + 1) * 3) = 9\n",
        "```\n",
        "\n",
        "**Example 2:**\n",
        "```\n",
        "Input: tokens = [\"4\",\"13\",\"5\",\"/\",\"+\"]\n",
        "Output: 6\n",
        "Explanation: (4 + (13 / 5)) = 6\n",
        "```\n",
        "\n",
        "**Example 3:**\n",
        "```\n",
        "Input: tokens = [\"10\",\"6\",\"9\",\"3\",\"+\",\"-11\",\"*\",\"/\",\"*\",\"17\",\"+\",\"5\",\"+\"]\n",
        "Output: 22\n",
        "Explanation: ((10 * (6 / ((9 + 3) * -11))) + 17) + 5\n",
        "= ((10 * (6 / (12 * -11))) + 17) + 5\n",
        "= ((10 * (6 / -132)) + 17) + 5\n",
        "= ((10 * 0) + 17) + 5\n",
        "= (0 + 17) + 5\n",
        "= 17 + 5\n",
        "= 22\n",
        "```"
      ],
      "metadata": {
        "id": "qdLtXtlMOJWF"
      }
    },
    {
      "cell_type": "code",
      "execution_count": 29,
      "metadata": {
        "id": "HPQX47bpKBWS"
      },
      "outputs": [],
      "source": [
        "from typing import List\n",
        "class Solution():\n",
        "\n",
        "  # As we find an operator we will pop last 2 elements of the stack and perform the operation. Add the result back to stack.\n",
        "  def reversePolishNotation(self, tokens: List[str]) -> int:\n",
        "    stack = []\n",
        "    operator = [\"+\", \"-\", \"*\", \"/\"]\n",
        "\n",
        "    for i in tokens:\n",
        "      if i in operator:\n",
        "        b = str(stack.pop())\n",
        "        a = str(stack.pop())\n",
        "        stack.append(int(eval(a + i + b)))\n",
        "      else:\n",
        "        stack.append(i)\n",
        "    return stack[0]\n"
      ]
    },
    {
      "cell_type": "code",
      "source": [
        "solution = Solution()\n",
        "print(solution.reversePolishNotation([\"2\",\"1\",\"+\",\"3\",\"*\"]))\n",
        "print(solution.reversePolishNotation([\"4\",\"13\",\"5\",\"/\",\"+\"]))\n",
        "print(solution.reversePolishNotation([\"10\",\"6\",\"9\",\"3\",\"+\",\"-11\",\"*\",\"/\",\"*\",\"17\",\"+\",\"5\",\"+\"]))"
      ],
      "metadata": {
        "colab": {
          "base_uri": "https://localhost:8080/"
        },
        "id": "Fil4vuu_PMK9",
        "outputId": "9ca89fe8-ad0b-4e8a-e99c-83005bacfe3a"
      },
      "execution_count": 31,
      "outputs": [
        {
          "output_type": "stream",
          "name": "stdout",
          "text": [
            "9\n",
            "6\n",
            "22\n"
          ]
        }
      ]
    }
  ]
}