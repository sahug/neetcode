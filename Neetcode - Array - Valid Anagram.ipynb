{
  "nbformat": 4,
  "nbformat_minor": 0,
  "metadata": {
    "colab": {
      "name": "Neetcode - Array - Valid Anagram.ipynb",
      "provenance": [],
      "authorship_tag": "ABX9TyNaSb5EdIoJJdvXV/Js99z+",
      "include_colab_link": true
    },
    "kernelspec": {
      "name": "python3",
      "display_name": "Python 3"
    },
    "language_info": {
      "name": "python"
    }
  },
  "cells": [
    {
      "cell_type": "markdown",
      "metadata": {
        "id": "view-in-github",
        "colab_type": "text"
      },
      "source": [
        "<a href=\"https://colab.research.google.com/github/sahug/neetcode/blob/main/Neetcode%20-%20Array%20-%20Valid%20Anagram.ipynb\" target=\"_parent\"><img src=\"https://colab.research.google.com/assets/colab-badge.svg\" alt=\"Open In Colab\"/></a>"
      ]
    },
    {
      "cell_type": "markdown",
      "source": [
        "**Neetcode - Array - Valid Anagram**"
      ],
      "metadata": {
        "id": "0AgtVKj7vAti"
      }
    },
    {
      "cell_type": "markdown",
      "source": [
        "Given two strings s and t, return true if t is an anagram of s, and false otherwise.\n",
        "\n",
        "An Anagram is a word or phrase formed by rearranging the letters of a different word or phrase, typically using all the original letters exactly once."
      ],
      "metadata": {
        "id": "2DXu5QJ1u3XD"
      }
    },
    {
      "cell_type": "code",
      "source": [
        "class Solution:\n",
        "  def isAnagram(self, s1: str, s2: str) -> bool:\n",
        "\n",
        "    d_s1, d_s2 = dict(), dict()\n",
        "\n",
        "    if len(s1) != len(s2):\n",
        "      return False\n",
        "\n",
        "    for i in range(len(s1)):\n",
        "      d_s1[s1[i]] = d_s1.get(s1[i], 0) + 1\n",
        "      d_s2[s2[i]] = d_s2.get(s2[i], 0) + 1\n",
        "    \n",
        "    for d in d_s1:\n",
        "      if d_s1[d] != d_s2.get(d, 0):\n",
        "        return False\n",
        "    return True"
      ],
      "metadata": {
        "id": "0iNTz4FD1bE8"
      },
      "execution_count": null,
      "outputs": []
    },
    {
      "cell_type": "code",
      "source": [
        "solution = Solution()\n",
        "print(solution.isAnagram(\"anagram\", \"nagaram\"))\n",
        "print(solution.isAnagram(\"cat\", \"car\"))"
      ],
      "metadata": {
        "colab": {
          "base_uri": "https://localhost:8080/"
        },
        "id": "Vm4Xy22g18vp",
        "outputId": "39011216-a875-460f-854e-95c2f190baf4"
      },
      "execution_count": null,
      "outputs": [
        {
          "output_type": "stream",
          "name": "stdout",
          "text": [
            "True\n",
            "False\n"
          ]
        }
      ]
    }
  ]
}