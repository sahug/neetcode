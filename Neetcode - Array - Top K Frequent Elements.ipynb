{
  "nbformat": 4,
  "nbformat_minor": 0,
  "metadata": {
    "colab": {
      "name": "Neetcode - Array - Top K Frequent Elements.ipynb",
      "provenance": [],
      "authorship_tag": "ABX9TyN7Vn2yH+H1MIbovz7GDRnB",
      "include_colab_link": true
    },
    "kernelspec": {
      "name": "python3",
      "display_name": "Python 3"
    },
    "language_info": {
      "name": "python"
    }
  },
  "cells": [
    {
      "cell_type": "markdown",
      "metadata": {
        "id": "view-in-github",
        "colab_type": "text"
      },
      "source": [
        "<a href=\"https://colab.research.google.com/github/sahug/neetcode/blob/main/Neetcode%20-%20Array%20-%20Top%20K%20Frequent%20Elements.ipynb\" target=\"_parent\"><img src=\"https://colab.research.google.com/assets/colab-badge.svg\" alt=\"Open In Colab\"/></a>"
      ]
    },
    {
      "cell_type": "markdown",
      "source": [
        "**Neetcode - Array - Top K Frequent Elements**"
      ],
      "metadata": {
        "id": "0AgtVKj7vAti"
      }
    },
    {
      "cell_type": "markdown",
      "source": [
        "Given an integer array nums and an integer k, return the k most frequent elements. You may return the answer in any order.\n",
        "\n",
        "```\n",
        "Input: [1,1,1,2,2,3], k = 2\n",
        "Output: [1,2]\n",
        "```"
      ],
      "metadata": {
        "id": "2DXu5QJ1u3XD"
      }
    },
    {
      "cell_type": "code",
      "source": [
        "from typing import List\n",
        "class Solution:\n",
        "  def kFreqElements(self, nums: List[str], k: int) -> List[int]:\n",
        "    d = dict()\n",
        "    for i in nums:\n",
        "      d[i] = d.get(i, 0) + 1    \n",
        "    d = sorted(d.items())    \n",
        "    op = []\n",
        "    for i in d:\n",
        "      op.append(i[0])\n",
        "      if len(op) == k:\n",
        "        return op\n",
        "    "
      ],
      "metadata": {
        "id": "0iNTz4FD1bE8"
      },
      "execution_count": 135,
      "outputs": []
    },
    {
      "cell_type": "code",
      "source": [
        "solution = Solution()\n",
        "print(solution.kFreqElements([1,1,3,2,2,1], 2))"
      ],
      "metadata": {
        "colab": {
          "base_uri": "https://localhost:8080/"
        },
        "id": "Vm4Xy22g18vp",
        "outputId": "ba5043ee-8168-4462-e20d-c86cc84201e8"
      },
      "execution_count": 136,
      "outputs": [
        {
          "output_type": "stream",
          "name": "stdout",
          "text": [
            "[1, 2]\n"
          ]
        }
      ]
    }
  ]
}