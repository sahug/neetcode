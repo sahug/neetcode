{
  "nbformat": 4,
  "nbformat_minor": 0,
  "metadata": {
    "colab": {
      "name": "Neetcode - Stack - Generate Parentheses.ipynb",
      "provenance": [],
      "authorship_tag": "ABX9TyMe3JEe2JG25BwrQmXrj3CP",
      "include_colab_link": true
    },
    "kernelspec": {
      "name": "python3",
      "display_name": "Python 3"
    },
    "language_info": {
      "name": "python"
    }
  },
  "cells": [
    {
      "cell_type": "markdown",
      "metadata": {
        "id": "view-in-github",
        "colab_type": "text"
      },
      "source": [
        "<a href=\"https://colab.research.google.com/github/sahug/neetcode/blob/main/Neetcode%20-%20Stack%20-%20Generate%20Parentheses.ipynb\" target=\"_parent\"><img src=\"https://colab.research.google.com/assets/colab-badge.svg\" alt=\"Open In Colab\"/></a>"
      ]
    },
    {
      "cell_type": "markdown",
      "source": [
        "**Neetcode - Stack - Generate Parentheses**\n"
      ],
      "metadata": {
        "id": "6nW7FfkgN6dm"
      }
    },
    {
      "cell_type": "markdown",
      "source": [
        "Given n pairs of parentheses, write a function to generate all combinations of well-formed parentheses.\n",
        "\n",
        "**Example 1:**\n",
        "```\n",
        "Input: n = 3\n",
        "Output: [\"((()))\",\"(()())\",\"(())()\",\"()(())\",\"()()()\"]\n",
        "```\n",
        "\n",
        "**Example 2:**\n",
        "```\n",
        "Input: n = 1\n",
        "Output: [\"()\"]\n",
        "```"
      ],
      "metadata": {
        "id": "qdLtXtlMOJWF"
      }
    },
    {
      "cell_type": "code",
      "execution_count": 14,
      "metadata": {
        "id": "HPQX47bpKBWS"
      },
      "outputs": [],
      "source": [
        "from typing import List\n",
        "class Solution():\n",
        "  # Only add open if open < n\n",
        "  # Only add close if close < open\n",
        "  # Validate if open == close == n\n",
        "\n",
        "  def generateParentheses(self, n: int) -> List[str]:\n",
        "    stack = []\n",
        "    res = []\n",
        "\n",
        "    def parantheses(openN, closeN):\n",
        "\n",
        "      # Validate if open == close == n\n",
        "      if openN == closeN == n:\n",
        "        res.append(\"\".join(stack))\n",
        "        return\n",
        "\n",
        "      # Only add open if open < n \n",
        "      if openN < n:\n",
        "        stack.append(\"(\")\n",
        "        parantheses(openN + 1, closeN)\n",
        "        stack.pop()\n",
        "\n",
        "      if closeN < openN:\n",
        "        stack.append(\")\")\n",
        "        parantheses(openN, closeN + 1)\n",
        "        stack.pop()\n",
        "\n",
        "    parantheses(0, 0)\n",
        "    return res"
      ]
    },
    {
      "cell_type": "code",
      "source": [
        "solution = Solution()\n",
        "print(solution.generateParentheses(3))\n",
        "print(solution.generateParentheses(1))"
      ],
      "metadata": {
        "colab": {
          "base_uri": "https://localhost:8080/"
        },
        "id": "Fil4vuu_PMK9",
        "outputId": "1e7b3bb2-45b8-4fef-b643-61398ccfba16"
      },
      "execution_count": 16,
      "outputs": [
        {
          "output_type": "stream",
          "name": "stdout",
          "text": [
            "['((()))', '((())))())', '((())))()))()', '((())))()))())(())', '((())))()))())(()))()']\n",
            "['()']\n"
          ]
        }
      ]
    }
  ]
}