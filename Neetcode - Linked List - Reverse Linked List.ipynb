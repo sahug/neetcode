{
  "nbformat": 4,
  "nbformat_minor": 0,
  "metadata": {
    "colab": {
      "name": "Neetcode - Linked List - Reverse Linked List.ipynb",
      "provenance": [],
      "collapsed_sections": [],
      "authorship_tag": "ABX9TyM8K8c/kL7R0h5b3K3r9Iw0",
      "include_colab_link": true
    },
    "kernelspec": {
      "name": "python3",
      "display_name": "Python 3"
    },
    "language_info": {
      "name": "python"
    }
  },
  "cells": [
    {
      "cell_type": "markdown",
      "metadata": {
        "id": "view-in-github",
        "colab_type": "text"
      },
      "source": [
        "<a href=\"https://colab.research.google.com/github/sahug/neetcode/blob/main/Neetcode%20-%20Linked%20List%20-%20Reverse%20Linked%20List.ipynb\" target=\"_parent\"><img src=\"https://colab.research.google.com/assets/colab-badge.svg\" alt=\"Open In Colab\"/></a>"
      ]
    },
    {
      "cell_type": "markdown",
      "source": [
        "**Neetcode - Linked List - Reverse Linked List**\n",
        "\n",
        "Given the head of a singly linked list, reverse the list, and return the reversed list.\n",
        "\n",
        "**Example 1:**\n",
        "```\n",
        "Input: head = [1,2,3,4,5]\n",
        "Output: [5,4,3,2,1]\n",
        "```\n",
        "**Example 2:**\n",
        "```\n",
        "Input: head = [1,2]\n",
        "Output: [2,1]\n",
        "```\n",
        "**Example 3:**\n",
        "```\n",
        "Input: head = []\n",
        "Output: []\n",
        "```\n"
      ],
      "metadata": {
        "id": "qdLtXtlMOJWF"
      }
    },
    {
      "cell_type": "code",
      "source": [
        "class Node():\n",
        "\n",
        "  def __init__(self, data, next):\n",
        "    self.data = data\n",
        "    self.next = next\n",
        "\n",
        "class LinkedList():\n",
        "\n",
        "  def __init__(self):\n",
        "    self.head = None\n",
        "    \n",
        "  def add(self, data):    \n",
        "    if self.head is None:      \n",
        "      self.head = Node(data, None)      \n",
        "      return\n",
        "       \n",
        "    itr = self.head     \n",
        "\n",
        "    while itr.next:        \n",
        "      itr = itr.next\n",
        "\n",
        "    itr.next = Node(data, None)\n",
        "  \n",
        "  def print(self):\n",
        "  # If LL is empty \n",
        "    if self.head is None:\n",
        "      print(\"Linked List is empty\")\n",
        "      return\n",
        "\n",
        "    itr = self.head\n",
        "\n",
        "    l_l_str = \"\"\n",
        "\n",
        "    while itr:\n",
        "      l_l_str += str(itr.data) + \"--->\"\n",
        "      itr = itr.next\n",
        "\n",
        "    print(l_l_str)"
      ],
      "metadata": {
        "id": "S-3s7yTXyIwb"
      },
      "execution_count": 209,
      "outputs": []
    },
    {
      "cell_type": "code",
      "execution_count": 210,
      "metadata": {
        "id": "HPQX47bpKBWS"
      },
      "outputs": [],
      "source": [
        "from typing import List\n",
        "class Solution():\n",
        "\n",
        "  def reverse(self, ll: LinkedList):    \n",
        "    prev = None\n",
        "    res = []\n",
        "    \n",
        "    itr = ll.head\n",
        "    \n",
        "    while itr:\n",
        "      temp = itr.next\n",
        "      itr.next = prev\n",
        "      prev = itr\n",
        "      itr = temp \n",
        "      res.append(prev.data)  \n",
        "\n",
        "    return res"
      ]
    },
    {
      "cell_type": "code",
      "source": [
        "ex1 = LinkedList()\n",
        "ex1.add(1)\n",
        "ex1.add(2)\n",
        "ex1.add(3) \n",
        "ex1.add(4) \n",
        "ex1.add(5) \n",
        "ex1.print()\n",
        "\n",
        "ex2 = LinkedList()\n",
        "ex2.add(1)\n",
        "ex2.add(2)\n",
        "ex2.print()"
      ],
      "metadata": {
        "colab": {
          "base_uri": "https://localhost:8080/"
        },
        "id": "zo5xTh-m0CdT",
        "outputId": "ac5960e5-bdc6-4c3e-cef8-bbcedb0594c4"
      },
      "execution_count": 211,
      "outputs": [
        {
          "output_type": "stream",
          "name": "stdout",
          "text": [
            "1--->2--->3--->4--->5--->\n",
            "1--->2--->\n"
          ]
        }
      ]
    },
    {
      "cell_type": "code",
      "source": [
        "solution = Solution()\n",
        "print(solution.reverse(ex1))\n",
        "print(solution.reverse(ex2))"
      ],
      "metadata": {
        "colab": {
          "base_uri": "https://localhost:8080/"
        },
        "id": "Fil4vuu_PMK9",
        "outputId": "1f87a7b9-6452-441c-d9a4-3b9dfad0320f"
      },
      "execution_count": 212,
      "outputs": [
        {
          "output_type": "stream",
          "name": "stdout",
          "text": [
            "[1, 2, 3, 4, 5]\n",
            "[1, 2]\n"
          ]
        }
      ]
    }
  ]
}