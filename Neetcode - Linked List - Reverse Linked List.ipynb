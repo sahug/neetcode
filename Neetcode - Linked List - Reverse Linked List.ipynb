{
  "nbformat": 4,
  "nbformat_minor": 0,
  "metadata": {
    "colab": {
      "name": "Copy of Neetcode - Linked List - Reverse Linked List.ipynb",
      "provenance": [],
      "collapsed_sections": [],
      "authorship_tag": "ABX9TyMk+ynyRefdfbY0Yuh9/EsR",
      "include_colab_link": true
    },
    "kernelspec": {
      "name": "python3",
      "display_name": "Python 3"
    },
    "language_info": {
      "name": "python"
    }
  },
  "cells": [
    {
      "cell_type": "markdown",
      "metadata": {
        "id": "view-in-github",
        "colab_type": "text"
      },
      "source": [
        "<a href=\"https://colab.research.google.com/github/sahug/neetcode/blob/main/Neetcode%20-%20Linked%20List%20-%20Reverse%20Linked%20List.ipynb\" target=\"_parent\"><img src=\"https://colab.research.google.com/assets/colab-badge.svg\" alt=\"Open In Colab\"/></a>"
      ]
    },
    {
      "cell_type": "markdown",
      "source": [
        "**Neetcode - Linked List - Reverse Linked List**\n",
        "\n",
        "Given the head of a singly linked list, reverse the list, and return the reversed list.\n",
        "\n",
        "**Example 1:**\n",
        "```\n",
        "Input: head = [1,2,3,4,5]\n",
        "Output: [5,4,3,2,1]\n",
        "```\n",
        "**Example 2:**\n",
        "```\n",
        "Input: head = [1,2]\n",
        "Output: [2,1]\n",
        "```\n",
        "**Example 3:**\n",
        "```\n",
        "Input: head = []\n",
        "Output: []\n",
        "```\n"
      ],
      "metadata": {
        "id": "qdLtXtlMOJWF"
      }
    },
    {
      "cell_type": "code",
      "source": [
        "class Node():\n",
        "\n",
        "  def __init__(self, data, next):\n",
        "    self.data = data\n",
        "    self.next = next\n",
        "\n",
        "class LinkedList():\n",
        "\n",
        "  def __init__(self):\n",
        "    self.head = None\n",
        "    \n",
        "  def add(self, data):    \n",
        "    if self.head is None:      \n",
        "      self.head = Node(data, None)      \n",
        "      return\n",
        "       \n",
        "    itr = self.head     \n",
        "\n",
        "    while itr.next:        \n",
        "      itr = itr.next\n",
        "\n",
        "    itr.next = Node(data, None)\n",
        "  \n",
        "  def print(self):\n",
        "  # If LL is empty \n",
        "    if self.head is None:\n",
        "      print(\"Linked List is empty\")\n",
        "      return\n",
        "\n",
        "    itr = self.head\n",
        "\n",
        "    l_l_str = \"\"\n",
        "\n",
        "    while itr:\n",
        "      l_l_str += str(itr.data) + \"--->\"\n",
        "      itr = itr.next\n",
        "\n",
        "    print(l_l_str)"
      ],
      "metadata": {
        "id": "S-3s7yTXyIwb"
      },
      "execution_count": null,
      "outputs": []
    },
    {
      "cell_type": "code",
      "execution_count": null,
      "metadata": {
        "id": "HPQX47bpKBWS"
      },
      "outputs": [],
      "source": [
        "from typing import List\n",
        "class Solution():\n",
        "\n",
        "  def reverse(self, ll: LinkedList):    \n",
        "    prev = None\n",
        "    itr = ll.head\n",
        "    \n",
        "    # Only for printing.\n",
        "    res = []\n",
        "\n",
        "    # Main Logic\n",
        "    while itr:\n",
        "      temp = itr.next\n",
        "      itr.next = prev\n",
        "      prev = itr      \n",
        "      itr = temp \n",
        "\n",
        "    # Just for printing\n",
        "    while prev:\n",
        "      res.append(prev.data)\n",
        "      prev = prev.next      \n",
        "\n",
        "    return res"
      ]
    },
    {
      "cell_type": "code",
      "source": [
        "ex1 = LinkedList()\n",
        "ex1.add(1)\n",
        "ex1.add(2)\n",
        "ex1.add(3) \n",
        "ex1.add(4) \n",
        "ex1.add(5) \n",
        "ex1.print()\n",
        "\n",
        "ex2 = LinkedList()\n",
        "ex2.add(1)\n",
        "ex2.add(2)\n",
        "ex2.print()"
      ],
      "metadata": {
        "colab": {
          "base_uri": "https://localhost:8080/"
        },
        "id": "zo5xTh-m0CdT",
        "outputId": "8b1a3fb7-ba03-4223-c58b-b22f7b4736d2"
      },
      "execution_count": null,
      "outputs": [
        {
          "output_type": "stream",
          "name": "stdout",
          "text": [
            "1--->2--->3--->4--->5--->\n",
            "1--->2--->\n"
          ]
        }
      ]
    },
    {
      "cell_type": "code",
      "source": [
        "solution = Solution()\n",
        "print(solution.reverse(ex1))\n",
        "print(solution.reverse(ex2))"
      ],
      "metadata": {
        "colab": {
          "base_uri": "https://localhost:8080/"
        },
        "id": "Fil4vuu_PMK9",
        "outputId": "80535355-fd30-407b-9328-b244a69dff0f"
      },
      "execution_count": null,
      "outputs": [
        {
          "output_type": "stream",
          "name": "stdout",
          "text": [
            "[5, 4, 3, 2, 1]\n",
            "[2, 1]\n"
          ]
        }
      ]
    }
  ]
}