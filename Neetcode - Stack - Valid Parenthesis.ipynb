{
  "nbformat": 4,
  "nbformat_minor": 0,
  "metadata": {
    "colab": {
      "name": "Neetcode - Stack - Valid Parenthesis.ipynb",
      "provenance": [],
      "authorship_tag": "ABX9TyN4vsr3ivICCNX+eCt9E87w",
      "include_colab_link": true
    },
    "kernelspec": {
      "name": "python3",
      "display_name": "Python 3"
    },
    "language_info": {
      "name": "python"
    }
  },
  "cells": [
    {
      "cell_type": "markdown",
      "metadata": {
        "id": "view-in-github",
        "colab_type": "text"
      },
      "source": [
        "<a href=\"https://colab.research.google.com/github/sahug/neetcode/blob/main/Neetcode%20-%20Stack%20-%20Valid%20Parenthesis.ipynb\" target=\"_parent\"><img src=\"https://colab.research.google.com/assets/colab-badge.svg\" alt=\"Open In Colab\"/></a>"
      ]
    },
    {
      "cell_type": "markdown",
      "source": [
        "**Neetcode - Stack - Valid Parenthesis**\n"
      ],
      "metadata": {
        "id": "6nW7FfkgN6dm"
      }
    },
    {
      "cell_type": "markdown",
      "source": [
        "Given a string s containing just the characters `'(', ')', '{', '}', '[' and ']'`, determine if the input string is valid.\n",
        "\n",
        "An input string is valid if:\n",
        "\n",
        " - Open brackets must be closed by the same type of brackets.\n",
        " - Open brackets must be closed in the correct order.\n",
        "\n",
        "**Example 1:**\n",
        "```\n",
        "Input: s = \"()\"\n",
        "Output: true\n",
        "```\n",
        "\n",
        "**Example 2:**\n",
        "```\n",
        "Input: s = \"()[]{}\"\n",
        "Output: true\n",
        "```\n",
        "\n",
        "**Example 3:**\n",
        "```\n",
        "Input: s = \"(]\"\n",
        "Output: false\n",
        "```"
      ],
      "metadata": {
        "id": "qdLtXtlMOJWF"
      }
    },
    {
      "cell_type": "code",
      "execution_count": 135,
      "metadata": {
        "id": "HPQX47bpKBWS"
      },
      "outputs": [],
      "source": [
        "from typing import List\n",
        "class Solution:\n",
        "\n",
        "  # Example: ()[]{}\n",
        "  # Steps:\n",
        "  # If stack is empty add the first char to stack. Ex \"(\". Stack = [(]\n",
        "  # If the next char is a closing bracket. Check if the last item added is its corresponding open bracket.\n",
        "  # # If True pop the last item from stack. Stack = Empty.\n",
        "\n",
        "  def validParenthesis(self, s: str) -> bool:\n",
        "    stack = []\n",
        "    closeToOpen = {\")\" : \"(\", \"]\" : \"[\", \"}\" : \"{\"}\n",
        "\n",
        "    for c in s:\n",
        "      if c in closeToOpen:\n",
        "        if stack and stack[-1] == closeToOpen[c]:\n",
        "          stack.pop()\n",
        "        else: \n",
        "          return False\n",
        "      else:        \n",
        "        stack.append(c)\n",
        "\n",
        "    return True if not stack else False\n",
        "    "
      ]
    },
    {
      "cell_type": "code",
      "source": [
        "solution = Solution()\n",
        "print(solution.validParenthesis(\"()\"))\n",
        "print(solution.validParenthesis(\"()[]{}\"))\n",
        "print(solution.validParenthesis(\"(]\"))"
      ],
      "metadata": {
        "colab": {
          "base_uri": "https://localhost:8080/"
        },
        "id": "Fil4vuu_PMK9",
        "outputId": "575f3ec9-d3f3-47a0-c3cf-b87754a555ae"
      },
      "execution_count": 137,
      "outputs": [
        {
          "output_type": "stream",
          "name": "stdout",
          "text": [
            "True\n",
            "True\n",
            "False\n"
          ]
        }
      ]
    }
  ]
}