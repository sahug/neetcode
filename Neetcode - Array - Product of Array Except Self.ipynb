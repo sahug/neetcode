{
  "nbformat": 4,
  "nbformat_minor": 0,
  "metadata": {
    "colab": {
      "name": "Neetcode - Array - Product of Array Except Self.ipynb",
      "provenance": [],
      "authorship_tag": "ABX9TyOA7f2Cu/2ey+5dGgQny9wA",
      "include_colab_link": true
    },
    "kernelspec": {
      "name": "python3",
      "display_name": "Python 3"
    },
    "language_info": {
      "name": "python"
    }
  },
  "cells": [
    {
      "cell_type": "markdown",
      "metadata": {
        "id": "view-in-github",
        "colab_type": "text"
      },
      "source": [
        "<a href=\"https://colab.research.google.com/github/sahug/neetcode/blob/main/Neetcode%20-%20Array%20-%20Product%20of%20Array%20Except%20Self.ipynb\" target=\"_parent\"><img src=\"https://colab.research.google.com/assets/colab-badge.svg\" alt=\"Open In Colab\"/></a>"
      ]
    },
    {
      "cell_type": "markdown",
      "source": [
        "**Neetcode - Array - Product of Array Except Self**"
      ],
      "metadata": {
        "id": "0AgtVKj7vAti"
      }
    },
    {
      "cell_type": "markdown",
      "source": [
        "Given an integer array nums, return an array answer such that `answer[i]` is equal to the product of all the elements of nums except `nums[i]`.\n",
        "\n",
        "The product of any prefix or suffix of nums is guaranteed to fit in a 32-bit integer.\n",
        "\n",
        "You must write an algorithm that runs in `O(n)` time and without using the division operation.\n",
        "\n",
        "```\n",
        "Input: [1,2,3,4]\n",
        "Output: [24,12,8,6]\n",
        "```\n",
        "```\n",
        "answer[0] = 2*3*4 = 24\n",
        "```"
      ],
      "metadata": {
        "id": "2DXu5QJ1u3XD"
      }
    },
    {
      "cell_type": "code",
      "source": [
        "from typing import List\n",
        "class Solution:\n",
        "  def prodOfArray(self, nums: List[str]) -> List[int]:\n",
        "    res = [1] * (len(nums))\n",
        "    \n",
        "    prefix = 1\n",
        "    for i in range(len(nums)):\n",
        "        res[i] = prefix\n",
        "        prefix *= nums[i]\n",
        "\n",
        "    postfix = 1\n",
        "    for i in range(len(nums) - 1, -1, -1):\n",
        "        res[i] *= postfix\n",
        "        postfix *= nums[i]\n",
        "    return res"
      ],
      "metadata": {
        "id": "0iNTz4FD1bE8"
      },
      "execution_count": 1,
      "outputs": []
    },
    {
      "cell_type": "code",
      "source": [
        "solution = Solution()\n",
        "print(solution.prodOfArray([1,2,3,4]))"
      ],
      "metadata": {
        "colab": {
          "base_uri": "https://localhost:8080/"
        },
        "id": "Vm4Xy22g18vp",
        "outputId": "492e258f-fb7c-4a6d-de7f-8b1342ae9f37"
      },
      "execution_count": 2,
      "outputs": [
        {
          "output_type": "stream",
          "name": "stdout",
          "text": [
            "[1, 1, 2, 6]\n",
            "24\n",
            "[24, 12, 8, 6]\n",
            "24\n",
            "[24, 12, 8, 6]\n"
          ]
        }
      ]
    }
  ]
}