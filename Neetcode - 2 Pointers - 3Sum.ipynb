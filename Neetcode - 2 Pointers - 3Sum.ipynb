{
  "nbformat": 4,
  "nbformat_minor": 0,
  "metadata": {
    "colab": {
      "name": "Neetcode - 2 Pointers - 3Sum.ipynb",
      "provenance": [],
      "authorship_tag": "ABX9TyOYbef7jx2BbNGr45jSNV8V",
      "include_colab_link": true
    },
    "kernelspec": {
      "name": "python3",
      "display_name": "Python 3"
    },
    "language_info": {
      "name": "python"
    }
  },
  "cells": [
    {
      "cell_type": "markdown",
      "metadata": {
        "id": "view-in-github",
        "colab_type": "text"
      },
      "source": [
        "<a href=\"https://colab.research.google.com/github/sahug/neetcode/blob/main/Neetcode%20-%202%20Pointers%20-%203Sum.ipynb\" target=\"_parent\"><img src=\"https://colab.research.google.com/assets/colab-badge.svg\" alt=\"Open In Colab\"/></a>"
      ]
    },
    {
      "cell_type": "markdown",
      "source": [
        "**Neetcode - 2 Pointers - 3Sum**"
      ],
      "metadata": {
        "id": "6nW7FfkgN6dm"
      }
    },
    {
      "cell_type": "markdown",
      "source": [
        "Given an integer array nums, return all the triplets `[nums[i], nums[j], nums[k]]` such that `i != j, i != k, and j != k`, and `nums[i] + nums[j] + nums[k] == 0`.\n",
        "\n",
        "Notice that the solution set must not contain duplicate triplets.\n",
        "\n",
        "**Example 1:**\n",
        "```\n",
        "Input: nums = [-1,0,1,2,-1,-4]\n",
        "Output: [[-1,-1,2],[-1,0,1]]\n",
        "```\n",
        "\n",
        "**Example 2:**\n",
        "```\n",
        "Input: nums = []\n",
        "Output: []\n",
        "```\n",
        "\n",
        "**Example 3:**\n",
        "```\n",
        "Input: nums = [0]\n",
        "Output: []\n",
        "```"
      ],
      "metadata": {
        "id": "qdLtXtlMOJWF"
      }
    },
    {
      "cell_type": "code",
      "execution_count": 66,
      "metadata": {
        "id": "HPQX47bpKBWS"
      },
      "outputs": [],
      "source": [
        "from typing import List\n",
        "class Solution:\n",
        "\n",
        "  def threeSum1(self, nums: List[int]) -> List[int]:\n",
        "    op = list()\n",
        "    for i in range(len(nums)):\n",
        "      for j in range(i+1, len(nums)):\n",
        "        for k in range(j+1, len(nums)):\n",
        "          if i != j and i != k and j != k:\n",
        "            if nums[i] + nums[j] + nums[k] == 0:\n",
        "              vals = [nums[i], nums[j], nums[k]]\n",
        "              op.append(vals)\n",
        "\n",
        "    return op      \n",
        "\n",
        "  #2 Pointers\n",
        "  def threeSum2(self, nums: List[int]) -> List[List[int]]:\n",
        "      res = []\n",
        "      nums.sort()\n",
        "      \n",
        "      for i, a in enumerate(nums):\n",
        "          if i > 0 and a == nums[i - 1]:\n",
        "              continue\n",
        "          \n",
        "          l, r = i + 1, len(nums) - 1\n",
        "          while l < r:\n",
        "              threeSum = a + nums[l] + nums[r]\n",
        "              if threeSum > 0:\n",
        "                  r -= 1\n",
        "              elif threeSum < 0:\n",
        "                  l += 1\n",
        "              else:\n",
        "                  res.append([a, nums[l], nums[r]])\n",
        "                  l += 1\n",
        "                  while nums[l] == nums[l - 1] and l < r:\n",
        "                      l += 1\n",
        "      return res         "
      ]
    },
    {
      "cell_type": "code",
      "source": [
        "solution = Solution()\n",
        "print(solution.threeSum1([-1,0,1,2,-1,-4]))\n",
        "print(solution.threeSum1([]))\n",
        "print(solution.threeSum1([0]))\n",
        "\n",
        "print(solution.threeSum2([-1,0,1,2,-1,-4]))\n",
        "print(solution.threeSum2([]))\n",
        "print(solution.threeSum2([0]))"
      ],
      "metadata": {
        "colab": {
          "base_uri": "https://localhost:8080/"
        },
        "id": "Fil4vuu_PMK9",
        "outputId": "c14cd4d2-2c81-485b-dde9-789f2fa11a05"
      },
      "execution_count": 67,
      "outputs": [
        {
          "output_type": "stream",
          "name": "stdout",
          "text": [
            "[[-1, 0, 1], [-1, 2, -1], [0, 1, -1]]\n",
            "[]\n",
            "[]\n",
            "[[-1, -1, 2], [-1, 0, 1]]\n",
            "[]\n",
            "[]\n"
          ]
        }
      ]
    }
  ]
}