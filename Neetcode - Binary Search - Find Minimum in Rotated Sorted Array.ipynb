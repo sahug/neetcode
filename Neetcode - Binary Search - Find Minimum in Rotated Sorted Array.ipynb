{
  "nbformat": 4,
  "nbformat_minor": 0,
  "metadata": {
    "colab": {
      "name": "Neetcode - Binary Search - Find Minimum in Rotated Sorted Array.ipynb",
      "provenance": [],
      "collapsed_sections": [],
      "authorship_tag": "ABX9TyNagiCopvP6gUodZ7NRA3v5",
      "include_colab_link": true
    },
    "kernelspec": {
      "name": "python3",
      "display_name": "Python 3"
    },
    "language_info": {
      "name": "python"
    }
  },
  "cells": [
    {
      "cell_type": "markdown",
      "metadata": {
        "id": "view-in-github",
        "colab_type": "text"
      },
      "source": [
        "<a href=\"https://colab.research.google.com/github/sahug/neetcode/blob/main/Neetcode%20-%20Binary%20Search%20-%20Find%20Minimum%20in%20Rotated%20Sorted%20Array.ipynb\" target=\"_parent\"><img src=\"https://colab.research.google.com/assets/colab-badge.svg\" alt=\"Open In Colab\"/></a>"
      ]
    },
    {
      "cell_type": "markdown",
      "source": [
        "**Neetcode - Binary Search - Find Minimum in Rotated Sorted Array**\n",
        "\n",
        "Suppose an array of length n sorted in ascending order is rotated between 1 and n times. For example, the array `nums = [0,1,2,4,5,6,7] `might become:\n",
        "\n",
        "- `[4,5,6,7,0,1,2]` if it was rotated 4 times.\n",
        "- `[0,1,2,4,5,6,7]` if it was rotated 7 times.\n",
        "\n",
        "Notice that **rotating** an array `[a[0], a[1], a[2], ..., a[n-1]]` 1 time results in the array `[a[n-1], a[0], a[1], a[2], ..., a[n-2]]`.\n",
        "\n",
        "Given the sorted rotated array nums of **unique** elements, return the minimum element of this array.\n",
        "\n",
        "You must write an algorithm that runs in **O(log n)** time.\n",
        "\n",
        "**Example 1:**\n",
        "```\n",
        "Input: nums = [3,4,5,1,2]\n",
        "Output: 1\n",
        "Explanation: The original array was [1,2,3,4,5] rotated 3 times.\n",
        "```\n",
        "**Example 2:**\n",
        "```\n",
        "Input: nums = [4,5,6,7,0,1,2]\n",
        "Output: 0\n",
        "Explanation: The original array was [0,1,2,4,5,6,7] and it was rotated 4 times.\n",
        "```\n",
        "**Example 3:**\n",
        "```\n",
        "Input: nums = [11,13,15,17]\n",
        "Output: 11\n",
        "Explanation: The original array was [11,13,15,17] and it was rotated 4 times. \n",
        "```"
      ],
      "metadata": {
        "id": "qdLtXtlMOJWF"
      }
    },
    {
      "cell_type": "code",
      "execution_count": 51,
      "metadata": {
        "id": "HPQX47bpKBWS"
      },
      "outputs": [],
      "source": [
        "import math\n",
        "from typing import List\n",
        "\n",
        "class Solution():\n",
        "\n",
        "  def findMinInRotatedSortedArray(self, nums: List[int]) -> int:\n",
        "    l, r = 0, len(nums) - 1\n",
        "    res = nums[0]\n",
        "    while l <= r:\n",
        "      \n",
        "      if nums[l] <= nums[r]:\n",
        "        res = min(res, nums[l])\n",
        "        break\n",
        "      mid = (l + r) // 2\n",
        "      res = min(res, nums[mid])\n",
        "      if nums[mid] >= nums[l]:\n",
        "        l = mid + 1\n",
        "      else:\n",
        "        r = mid - 1\n",
        "    return res"
      ]
    },
    {
      "cell_type": "code",
      "source": [
        "solution = Solution()\n",
        "print(solution.findMinInRotatedSortedArray([3,4,5,1,2]))\n",
        "print(solution.findMinInRotatedSortedArray([4,5,6,7,0,1,2]))\n",
        "print(solution.findMinInRotatedSortedArray([11,13,15,17]))"
      ],
      "metadata": {
        "colab": {
          "base_uri": "https://localhost:8080/"
        },
        "id": "Fil4vuu_PMK9",
        "outputId": "8eceb3a2-abb3-4c35-8bb3-5fb204feb6c9"
      },
      "execution_count": 52,
      "outputs": [
        {
          "output_type": "stream",
          "name": "stdout",
          "text": [
            "1\n",
            "0\n",
            "11\n"
          ]
        }
      ]
    }
  ]
}