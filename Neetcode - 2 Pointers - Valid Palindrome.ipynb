{
  "nbformat": 4,
  "nbformat_minor": 0,
  "metadata": {
    "colab": {
      "name": "Neetcode - 2 Pointers - Valid Palindrome.ipynb",
      "provenance": [],
      "authorship_tag": "ABX9TyO0z/qq5YovWrwiXOHphrDG",
      "include_colab_link": true
    },
    "kernelspec": {
      "name": "python3",
      "display_name": "Python 3"
    },
    "language_info": {
      "name": "python"
    }
  },
  "cells": [
    {
      "cell_type": "markdown",
      "metadata": {
        "id": "view-in-github",
        "colab_type": "text"
      },
      "source": [
        "<a href=\"https://colab.research.google.com/github/sahug/neetcode/blob/main/Neetcode%20-%202%20Pointers%20-%20Valid%20Palindrome.ipynb\" target=\"_parent\"><img src=\"https://colab.research.google.com/assets/colab-badge.svg\" alt=\"Open In Colab\"/></a>"
      ]
    },
    {
      "cell_type": "markdown",
      "source": [
        "**Neetcode - 2 Pointers - Valid Palindrome**"
      ],
      "metadata": {
        "id": "6nW7FfkgN6dm"
      }
    },
    {
      "cell_type": "markdown",
      "source": [
        "A phrase is a **palindrome** if, after converting all uppercase letters into lowercase letters and removing all non-alphanumeric characters, it reads the same forward and backward. Alphanumeric characters include letters and numbers.\n",
        "\n",
        "Given a string `s`, return **true** if it is a palindrome, or **false** otherwise.\n",
        "\n",
        "**Example 1:**\n",
        "```\n",
        "Input: s = \"A man, a plan, a canal: Panama\"\n",
        "Output: true\n",
        "Explanation: \"amanaplanacanalpanama\" is a palindrome.\n",
        "```\n",
        "\n",
        "**Example 2:**\n",
        "```\n",
        "Input: s = \"race a car\"\n",
        "Output: false\n",
        "Explanation: \"raceacar\" is not a palindrome.\n",
        "```\n",
        "\n",
        "**Example 3:**\n",
        "```\n",
        "Input: s = \" \"\n",
        "Output: true\n",
        "Explanation: s is an empty string \"\" after removing non-alphanumeric characters.\n",
        "Since an empty string reads the same forward and backward, it is a palindrome.\n",
        "```"
      ],
      "metadata": {
        "id": "qdLtXtlMOJWF"
      }
    },
    {
      "cell_type": "code",
      "execution_count": 30,
      "metadata": {
        "id": "HPQX47bpKBWS"
      },
      "outputs": [],
      "source": [
        "class Solution:\n",
        "\n",
        "  def isPalindrome(self, s: str) -> bool:\n",
        "    s = ''.join(e.lower() for e in s if e.isalpha())\n",
        "    start, end = 0, len(s) - 1\n",
        "    while start <= end:\n",
        "      if s[start] == s[end]:\n",
        "        start += 1\n",
        "        end -= 1\n",
        "      else:\n",
        "        return False  \n",
        "    return True    "
      ]
    },
    {
      "cell_type": "code",
      "source": [
        "solution = Solution()\n",
        "print(solution.isPalindrome(\"A man, a plan, a canal: Panama\"))\n",
        "print(solution.isPalindrome(\"race a car\"))\n",
        "print(solution.isPalindrome(\" \"))"
      ],
      "metadata": {
        "colab": {
          "base_uri": "https://localhost:8080/"
        },
        "id": "Fil4vuu_PMK9",
        "outputId": "394c8376-59ba-497d-c6ba-7c78bba36610"
      },
      "execution_count": 32,
      "outputs": [
        {
          "output_type": "stream",
          "name": "stdout",
          "text": [
            "True\n",
            "False\n",
            "True\n"
          ]
        }
      ]
    }
  ]
}