{
  "nbformat": 4,
  "nbformat_minor": 0,
  "metadata": {
    "colab": {
      "name": "Neetcode - Sliding Window - Minimum Window Substring.ipynb",
      "provenance": [],
      "authorship_tag": "ABX9TyP28M9iV4a7CjSMA9fY2K7l",
      "include_colab_link": true
    },
    "kernelspec": {
      "name": "python3",
      "display_name": "Python 3"
    },
    "language_info": {
      "name": "python"
    }
  },
  "cells": [
    {
      "cell_type": "markdown",
      "metadata": {
        "id": "view-in-github",
        "colab_type": "text"
      },
      "source": [
        "<a href=\"https://colab.research.google.com/github/sahug/neetcode/blob/main/Neetcode%20-%20Sliding%20Window%20-%20Minimum%20Window%20Substring.ipynb\" target=\"_parent\"><img src=\"https://colab.research.google.com/assets/colab-badge.svg\" alt=\"Open In Colab\"/></a>"
      ]
    },
    {
      "cell_type": "markdown",
      "source": [
        "**Neetcode - Sliding Window - Minimum Window Substring**\n"
      ],
      "metadata": {
        "id": "6nW7FfkgN6dm"
      }
    },
    {
      "cell_type": "markdown",
      "source": [
        "Given two strings **s** and **t** of lengths **m** and **n** respectively, return the **minimum window substring** of **s** such that every character in **t** (**including duplicates**) is included in the window. If there is no such substring, return the empty string \"\".\n",
        "\n",
        "The testcases will be generated such that the answer is **unique**.\n",
        "\n",
        "A **substring** is a contiguous sequence of characters within the string.\n",
        "\n",
        "**Example 1:**\n",
        "```\n",
        "Input: s = \"ADOBECODEBANC\", t = \"ABC\"\n",
        "Output: \"BANC\"\n",
        "Explanation: The minimum window substring \"BANC\" includes 'A', 'B', and 'C' from string t.\n",
        "```\n",
        "\n",
        "**Example 2:**\n",
        "```\n",
        "Input: s = \"a\", t = \"a\"\n",
        "Output: \"a\"\n",
        "Explanation: The entire string s is the minimum window.\n",
        "```\n",
        "\n",
        "**Example 3:**\n",
        "```\n",
        "Input: s = \"a\", t = \"aa\"\n",
        "Output: \"\"\n",
        "Explanation: Both 'a's from t must be included in the window.\n",
        "Since the largest window of s only has one 'a', return empty string.\n",
        "```"
      ],
      "metadata": {
        "id": "qdLtXtlMOJWF"
      }
    },
    {
      "cell_type": "code",
      "execution_count": 97,
      "metadata": {
        "id": "HPQX47bpKBWS"
      },
      "outputs": [],
      "source": [
        "from typing import List\n",
        "class Solution:\n",
        "\n",
        "  def maxWindowSubstr(self, s: str, t: str) -> List[str]:\n",
        "        if t == \"\": return \"\"\n",
        "        \n",
        "        countT, window = {}, {}\n",
        "        for c in t:\n",
        "            countT[c] = 1 + countT.get(c, 0)\n",
        "        \n",
        "        have, need = 0, len(countT)\n",
        "        res, resLen = [-1, -1], float(\"infinity\")\n",
        "        l = 0\n",
        "        for r in range(len(s)):\n",
        "            c = s[r]\n",
        "            window[c] = 1 + window.get(c, 0)\n",
        "            \n",
        "            if c in countT and window[c] == countT[c]:\n",
        "                have += 1\n",
        "        \n",
        "            while have == need:\n",
        "                # update our result\n",
        "                if (r - l + 1) < resLen:\n",
        "                    res = [l, r]\n",
        "                    resLen = (r - l + 1)\n",
        "                # pop from the left of our window\n",
        "                window[s[l]] -= 1\n",
        "                if s[l] in countT and window[s[l]] < countT[s[l]]:\n",
        "                    have -= 1\n",
        "                l += 1\n",
        "        l, r = res\n",
        "        return s[l:r+1] if resLen != float(\"infinity\") else \"\" "
      ]
    },
    {
      "cell_type": "code",
      "source": [
        "solution = Solution()\n",
        "print(solution.maxWindowSubstr(\"ADOBECODEBANC\", \"ABC\"))\n",
        "print(solution.maxWindowSubstr(\"a\", \"a\"))\n",
        "print(solution.maxWindowSubstr(\"a\", \"aa\"))"
      ],
      "metadata": {
        "colab": {
          "base_uri": "https://localhost:8080/"
        },
        "id": "Fil4vuu_PMK9",
        "outputId": "2eb4a743-128d-4a96-e7c8-cfbedf35286c"
      },
      "execution_count": 99,
      "outputs": [
        {
          "output_type": "stream",
          "name": "stdout",
          "text": [
            "BANC\n",
            "a\n",
            "\n"
          ]
        }
      ]
    }
  ]
}