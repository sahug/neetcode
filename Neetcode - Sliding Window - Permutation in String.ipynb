{
  "nbformat": 4,
  "nbformat_minor": 0,
  "metadata": {
    "colab": {
      "name": "Neetcode - Sliding Window - Permutation in String.ipynb",
      "provenance": [],
      "authorship_tag": "ABX9TyMmqzzBWxaIvg0Aw3SbJfVn",
      "include_colab_link": true
    },
    "kernelspec": {
      "name": "python3",
      "display_name": "Python 3"
    },
    "language_info": {
      "name": "python"
    }
  },
  "cells": [
    {
      "cell_type": "markdown",
      "metadata": {
        "id": "view-in-github",
        "colab_type": "text"
      },
      "source": [
        "<a href=\"https://colab.research.google.com/github/sahug/neetcode/blob/main/Neetcode%20-%20Sliding%20Window%20-%20Permutation%20in%20String.ipynb\" target=\"_parent\"><img src=\"https://colab.research.google.com/assets/colab-badge.svg\" alt=\"Open In Colab\"/></a>"
      ]
    },
    {
      "cell_type": "markdown",
      "source": [
        "**Neetcode - Sliding Window - Permutation in String**\n"
      ],
      "metadata": {
        "id": "6nW7FfkgN6dm"
      }
    },
    {
      "cell_type": "markdown",
      "source": [
        "Given two strings **s1** and **s2**, return true if **s2** contains a permutation of **s1**, or false otherwise.\n",
        "\n",
        "In other words, return true if one of **s1**'s permutations is the substring of **s2**. \n",
        "\n",
        "**Example 1:**\n",
        "```\n",
        "Input: s1 = \"ab\", s2 = \"eidbaooo\"\n",
        "Output: true\n",
        "Explanation: s2 contains one permutation of s1 (\"ba\").\n",
        "```\n",
        "\n",
        "**Example 2:**\n",
        "```\n",
        "Input: s1 = \"ab\", s2 = \"eidboaoo\"\n",
        "Output: false\n",
        "```"
      ],
      "metadata": {
        "id": "qdLtXtlMOJWF"
      }
    },
    {
      "cell_type": "code",
      "execution_count": 103,
      "metadata": {
        "id": "HPQX47bpKBWS"
      },
      "outputs": [],
      "source": [
        "from typing import List\n",
        "class Solution:\n",
        "\n",
        "  def permutationInString(self, s1: str, s2: str) -> bool:\n",
        "    if len(s1) > len(s2): return False\n",
        "    \n",
        "    s1Count, s2Count = [0] * 26, [0] * 26\n",
        "    for i in range(len(s1)):\n",
        "        s1Count[ord(s1[i]) - ord('a')] += 1\n",
        "        s2Count[ord(s2[i]) - ord('a')] += 1\n",
        "    \n",
        "    matches = 0\n",
        "    for i in range(26):\n",
        "        matches += (1 if s1Count[i] == s2Count[i] else 0)\n",
        "    \n",
        "    l = 0\n",
        "    for r in range(len(s1), len(s2)):\n",
        "        if matches == 26: return True\n",
        "        \n",
        "        index = ord(s2[r]) - ord('a')\n",
        "        s2Count[index] += 1\n",
        "        if s1Count[index] == s2Count[index]:\n",
        "            matches += 1\n",
        "        elif s1Count[index] + 1 == s2Count[index]:\n",
        "            matches -= 1\n",
        "        \n",
        "        index = ord(s2[l]) - ord('a')\n",
        "        s2Count[index] -= 1\n",
        "        if s1Count[index] == s2Count[index]:\n",
        "            matches += 1\n",
        "        elif s1Count[index] - 1 == s2Count[index]:\n",
        "            matches -= 1\n",
        "        l += 1\n",
        "    return matches == 26"
      ]
    },
    {
      "cell_type": "code",
      "source": [
        "solution = Solution()\n",
        "print(solution.permutationInString(\"ab\", \"eidbaooo\"))\n",
        "print(solution.permutationInString(\"ab\", \"eidboaoo\"))"
      ],
      "metadata": {
        "colab": {
          "base_uri": "https://localhost:8080/"
        },
        "id": "Fil4vuu_PMK9",
        "outputId": "e8bf6638-b5e6-40bf-bdf6-756b1c090882"
      },
      "execution_count": 104,
      "outputs": [
        {
          "output_type": "stream",
          "name": "stdout",
          "text": [
            "True\n",
            "False\n"
          ]
        }
      ]
    }
  ]
}