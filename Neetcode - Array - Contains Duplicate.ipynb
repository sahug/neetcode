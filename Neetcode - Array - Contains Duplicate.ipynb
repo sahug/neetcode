{
  "nbformat": 4,
  "nbformat_minor": 0,
  "metadata": {
    "colab": {
      "name": "Neetcode - Array - Contains Duplicate.ipynb",
      "provenance": [],
      "authorship_tag": "ABX9TyPGijbItW6WkjsW92dtoBpQ",
      "include_colab_link": true
    },
    "kernelspec": {
      "name": "python3",
      "display_name": "Python 3"
    },
    "language_info": {
      "name": "python"
    }
  },
  "cells": [
    {
      "cell_type": "markdown",
      "metadata": {
        "id": "view-in-github",
        "colab_type": "text"
      },
      "source": [
        "<a href=\"https://colab.research.google.com/github/sahug/neetcode/blob/main/Neetcode%20-%20Array%20-%20Contains%20Duplicate.ipynb\" target=\"_parent\"><img src=\"https://colab.research.google.com/assets/colab-badge.svg\" alt=\"Open In Colab\"/></a>"
      ]
    },
    {
      "cell_type": "markdown",
      "source": [
        "**Neetcode - Array - Contains Duplicate**"
      ],
      "metadata": {
        "id": "0AgtVKj7vAti"
      }
    },
    {
      "cell_type": "markdown",
      "source": [
        "Given an integer array nums, return true if any value appears at least twice in the array, and return false if every element is distinct."
      ],
      "metadata": {
        "id": "2DXu5QJ1u3XD"
      }
    },
    {
      "cell_type": "code",
      "execution_count": null,
      "metadata": {
        "id": "7WkqrcLfu2ov"
      },
      "outputs": [],
      "source": [
        "from typing import List\n",
        "class Solution:  \n",
        "  def containsDuplicate1(self, nums: List[int]) -> bool:\n",
        "    d = dict()\n",
        "    for i in nums:\n",
        "      d[i] = d.get(i, 0) + 1\n",
        "    print(d)\n",
        "    if i in d:\n",
        "      if d[i] > 1:\n",
        "        return True          \n",
        "      return False    \n",
        "\n",
        "  def containsDuplicate2(self, nums: List[int]) -> bool:\n",
        "    hashset = set()\n",
        "  \n",
        "    for n in nums:\n",
        "        if n in hashset:\n",
        "            return True\n",
        "        hashset.add(n)\n",
        "    print(hashset)\n",
        "    return False"
      ]
    },
    {
      "cell_type": "code",
      "source": [
        "solution = Solution()\n",
        "#Using Dictionary\n",
        "print(solution.containsDuplicate1([1,2,3,1]))\n",
        "print(solution.containsDuplicate1([1,2,3,4]))\n",
        "print(solution.containsDuplicate1([1,1,1,3,3,4,3,2,4,2]))\n",
        "\n",
        "#Using Hashset\n",
        "print(solution.containsDuplicate2([1,2,3,1]))\n",
        "print(solution.containsDuplicate2([1,2,3,4]))\n",
        "print(solution.containsDuplicate2([1,1,1,3,3,4,3,2,4,2]))"
      ],
      "metadata": {
        "colab": {
          "base_uri": "https://localhost:8080/"
        },
        "id": "fyyP3snpvVgI",
        "outputId": "a3527696-e7d6-443e-de75-fe7ee521a748"
      },
      "execution_count": null,
      "outputs": [
        {
          "output_type": "stream",
          "name": "stdout",
          "text": [
            "{1: 2, 2: 1, 3: 1}\n",
            "True\n",
            "{1: 1, 2: 1, 3: 1, 4: 1}\n",
            "False\n",
            "{1: 3, 3: 3, 4: 2, 2: 2}\n",
            "True\n",
            "True\n",
            "{1, 2, 3, 4}\n",
            "False\n",
            "True\n"
          ]
        }
      ]
    }
  ]
}