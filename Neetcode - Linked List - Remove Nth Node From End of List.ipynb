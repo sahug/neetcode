{
  "nbformat": 4,
  "nbformat_minor": 0,
  "metadata": {
    "colab": {
      "name": "Neetcode - Linked List - Remove Nth Node From End of List.ipynb",
      "provenance": [],
      "collapsed_sections": [],
      "authorship_tag": "ABX9TyOo8NwE8v8s1qEpUzv/4ReE",
      "include_colab_link": true
    },
    "kernelspec": {
      "name": "python3",
      "display_name": "Python 3"
    },
    "language_info": {
      "name": "python"
    }
  },
  "cells": [
    {
      "cell_type": "markdown",
      "metadata": {
        "id": "view-in-github",
        "colab_type": "text"
      },
      "source": [
        "<a href=\"https://colab.research.google.com/github/sahug/neetcode/blob/main/Neetcode%20-%20Linked%20List%20-%20Remove%20Nth%20Node%20From%20End%20of%20List.ipynb\" target=\"_parent\"><img src=\"https://colab.research.google.com/assets/colab-badge.svg\" alt=\"Open In Colab\"/></a>"
      ]
    },
    {
      "cell_type": "markdown",
      "source": [
        "**Neetcode - Linked List - Remove Nth Node From End of List**\n",
        "\n",
        "Given the head of a linked list, remove the nth node from the end of the list and return its head.\n",
        "\n",
        "**Example 1:**\n",
        "```\n",
        "Input: head = [1,2,3,4,5], n = 2\n",
        "Output: [1,2,3,5]\n",
        "```\n",
        "**Example 2:**\n",
        "```\n",
        "Input: head = [1,2], n = 1\n",
        "Output: [1]\n",
        "```"
      ],
      "metadata": {
        "id": "qdLtXtlMOJWF"
      }
    },
    {
      "cell_type": "code",
      "source": [
        "class Node():\n",
        "\n",
        "  def __init__(self, data, next):\n",
        "    self.data = data\n",
        "    self.next = next\n",
        "\n",
        "class LinkedList():\n",
        "\n",
        "  def __init__(self):\n",
        "    self.head = None\n",
        "    \n",
        "  def add(self, data):    \n",
        "    if self.head is None:      \n",
        "      self.head = Node(data, None)      \n",
        "      return\n",
        "       \n",
        "    itr = self.head     \n",
        "\n",
        "    while itr.next:        \n",
        "      itr = itr.next\n",
        "\n",
        "    itr.next = Node(data, None)\n",
        "  \n",
        "  def print(self):\n",
        "  # If LL is empty \n",
        "    if self.head is None:\n",
        "      print(\"Linked List is empty\")\n",
        "      return\n",
        "\n",
        "    itr = self.head\n",
        "\n",
        "    l_l_str = \"\"\n",
        "\n",
        "    while itr:\n",
        "      l_l_str += str(itr.data) + \"--->\"\n",
        "      itr = itr.next\n",
        "\n",
        "    print(l_l_str)"
      ],
      "metadata": {
        "id": "S-3s7yTXyIwb"
      },
      "execution_count": 32,
      "outputs": []
    },
    {
      "cell_type": "code",
      "execution_count": 37,
      "metadata": {
        "id": "HPQX47bpKBWS"
      },
      "outputs": [],
      "source": [
        "class Solution():\n",
        "\n",
        "  def removeNode(self, ll: LinkedList, n: int) -> LinkedList:\n",
        "    dummy = Node(0, ll.head)\n",
        "    left = dummy\n",
        "    right = ll.head\n",
        "\n",
        "    while n > 0 and right:\n",
        "      right = right.next\n",
        "      n -= 1\n",
        "\n",
        "    while right:\n",
        "      left = left.next\n",
        "      right = right.next\n",
        "    \n",
        "    # Delete\n",
        "    left.next = left.next.next\n",
        "\n",
        "    # dummy.next give the hean of actual list. \n",
        "    # Remember dummy is not a real node. \n",
        "    # It is just added for the purpose of calulation so need not to be returned.\n",
        "    return ll.print()\n"
      ]
    },
    {
      "cell_type": "code",
      "source": [
        "l1 = LinkedList()\n",
        "l1.add(1)\n",
        "l1.add(2)\n",
        "l1.add(4) \n",
        "l1.add(5)\n",
        "l1.add(6)\n",
        "l1.add(7)\n",
        "l1.print()"
      ],
      "metadata": {
        "colab": {
          "base_uri": "https://localhost:8080/"
        },
        "id": "zo5xTh-m0CdT",
        "outputId": "08abb713-4b67-4d91-dca6-f77996463b57"
      },
      "execution_count": 34,
      "outputs": [
        {
          "output_type": "stream",
          "name": "stdout",
          "text": [
            "1--->2--->4--->5--->6--->7--->\n"
          ]
        }
      ]
    },
    {
      "cell_type": "code",
      "source": [
        "solution = Solution()\n",
        "print(solution.removeNode(l1, 2))"
      ],
      "metadata": {
        "colab": {
          "base_uri": "https://localhost:8080/"
        },
        "id": "Fil4vuu_PMK9",
        "outputId": "b4181c99-d811-48f0-cbeb-49d651644642"
      },
      "execution_count": 38,
      "outputs": [
        {
          "output_type": "stream",
          "name": "stdout",
          "text": [
            "1--->2--->4--->7--->\n",
            "None\n"
          ]
        }
      ]
    }
  ]
}