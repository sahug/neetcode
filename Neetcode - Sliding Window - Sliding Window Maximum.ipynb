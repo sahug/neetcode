{
  "nbformat": 4,
  "nbformat_minor": 0,
  "metadata": {
    "colab": {
      "name": "Neetcode - Sliding Window - Sliding Window Maximum.ipynb",
      "provenance": [],
      "authorship_tag": "ABX9TyN2IqPnFWYklhKm9bR0Wg+v",
      "include_colab_link": true
    },
    "kernelspec": {
      "name": "python3",
      "display_name": "Python 3"
    },
    "language_info": {
      "name": "python"
    }
  },
  "cells": [
    {
      "cell_type": "markdown",
      "metadata": {
        "id": "view-in-github",
        "colab_type": "text"
      },
      "source": [
        "<a href=\"https://colab.research.google.com/github/sahug/neetcode/blob/main/Neetcode%20-%20Sliding%20Window%20-%20Sliding%20Window%20Maximum.ipynb\" target=\"_parent\"><img src=\"https://colab.research.google.com/assets/colab-badge.svg\" alt=\"Open In Colab\"/></a>"
      ]
    },
    {
      "cell_type": "markdown",
      "source": [
        "**Neetcode - Sliding Window - Sliding Window Maximum**\n"
      ],
      "metadata": {
        "id": "6nW7FfkgN6dm"
      }
    },
    {
      "cell_type": "markdown",
      "source": [
        "You are given an array of integers **nums**, there is a sliding window of size **k** which is moving from the very left of the array to the very right. You can only see the **k** numbers in the window. Each time the sliding window moves right by one position.\n",
        "\n",
        "Return **the max sliding window.**\n",
        "\n",
        "**Example 1:**\n",
        "```\n",
        "Input: nums = [1,3,-1,-3,5,3,6,7], k = 3\n",
        "Output: [3,3,5,5,6,7]\n",
        "Explanation: \n",
        "Window position                Max\n",
        "---------------               -----\n",
        "[1  3  -1] -3  5  3  6  7       3\n",
        " 1 [3  -1  -3] 5  3  6  7       3\n",
        " 1  3 [-1  -3  5] 3  6  7       5\n",
        " 1  3  -1 [-3  5  3] 6  7       5\n",
        " 1  3  -1  -3 [5  3  6] 7       6\n",
        " 1  3  -1  -3  5 [3  6  7]      7\n",
        "```\n",
        "\n",
        "**Example 2:**\n",
        "```\n",
        "Input: nums = [1], k = 1\n",
        "Output: [1]\n",
        "```"
      ],
      "metadata": {
        "id": "qdLtXtlMOJWF"
      }
    },
    {
      "cell_type": "code",
      "execution_count": 119,
      "metadata": {
        "id": "HPQX47bpKBWS"
      },
      "outputs": [],
      "source": [
        "from typing import List\n",
        "class Solution:\n",
        "\n",
        "  def maxSlidingWindow(self, nums: List[int], k: int) -> List[int]:\n",
        "    l, r = 0, k\n",
        "    res = list()\n",
        "    while r <= len(nums):\n",
        "      res.append(max(nums[l:r]))\n",
        "      l += 1\n",
        "      r += 1\n",
        "    return res"
      ]
    },
    {
      "cell_type": "code",
      "source": [
        "solution = Solution()\n",
        "print(solution.maxSlidingWindow([1,3,-1,-3,5,3,6,7], 3))\n",
        "print(solution.maxSlidingWindow([1], 1))"
      ],
      "metadata": {
        "colab": {
          "base_uri": "https://localhost:8080/"
        },
        "id": "Fil4vuu_PMK9",
        "outputId": "1d166bb0-6c9b-40c5-fe1a-206e2482cb09"
      },
      "execution_count": 120,
      "outputs": [
        {
          "output_type": "stream",
          "name": "stdout",
          "text": [
            "[3, 3, 5, 5, 6, 7]\n",
            "[1]\n"
          ]
        }
      ]
    }
  ]
}