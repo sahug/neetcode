{
  "nbformat": 4,
  "nbformat_minor": 0,
  "metadata": {
    "colab": {
      "name": "Neetcode - Linked List - Merge Two Sorted Lists.ipynb",
      "provenance": [],
      "collapsed_sections": [],
      "authorship_tag": "ABX9TyOE9zAIERN03t6h/wtoVikm",
      "include_colab_link": true
    },
    "kernelspec": {
      "name": "python3",
      "display_name": "Python 3"
    },
    "language_info": {
      "name": "python"
    }
  },
  "cells": [
    {
      "cell_type": "markdown",
      "metadata": {
        "id": "view-in-github",
        "colab_type": "text"
      },
      "source": [
        "<a href=\"https://colab.research.google.com/github/sahug/neetcode/blob/main/Neetcode%20-%20Linked%20List%20-%20Merge%20Two%20Sorted%20Lists.ipynb\" target=\"_parent\"><img src=\"https://colab.research.google.com/assets/colab-badge.svg\" alt=\"Open In Colab\"/></a>"
      ]
    },
    {
      "cell_type": "markdown",
      "source": [
        "**Neetcode - Linked List - Merge Two Sorted Lists**\n",
        "\n",
        "You are given the heads of **two sorted linked lists** `list1` and `list2`.\n",
        "\n",
        "Merge the two lists in a **one sorted list**. The list should be made by splicing together the nodes of the first two lists.\n",
        "\n",
        "Return the **head of the merged linked list**.\n",
        "\n",
        "**Example 1:**\n",
        "```\n",
        "Input: list1 = [1,2,4], list2 = [1,3,4]\n",
        "Output: [1,1,2,3,4,4]\n",
        "```\n",
        "**Example 2:**\n",
        "```\n",
        "Input: list1 = [], list2 = []\n",
        "Output: []\n",
        "```\n",
        "**Example 3:**\n",
        "```\n",
        "Input: list1 = [], list2 = [0]\n",
        "Output: [0]\n",
        "```\n"
      ],
      "metadata": {
        "id": "qdLtXtlMOJWF"
      }
    },
    {
      "cell_type": "code",
      "source": [
        "class Node():\n",
        "\n",
        "  def __init__(self, data, next):\n",
        "    self.data = data\n",
        "    self.next = next\n",
        "\n",
        "class LinkedList():\n",
        "\n",
        "  def __init__(self):\n",
        "    self.head = None\n",
        "    \n",
        "  def add(self, data):    \n",
        "    if self.head is None:      \n",
        "      self.head = Node(data, None)      \n",
        "      return\n",
        "       \n",
        "    itr = self.head     \n",
        "\n",
        "    while itr.next:        \n",
        "      itr = itr.next\n",
        "\n",
        "    itr.next = Node(data, None)\n",
        "  \n",
        "  def print(self):\n",
        "  # If LL is empty \n",
        "    if self.head is None:\n",
        "      print(\"Linked List is empty\")\n",
        "      return\n",
        "\n",
        "    itr = self.head\n",
        "\n",
        "    l_l_str = \"\"\n",
        "\n",
        "    while itr:\n",
        "      l_l_str += str(itr.data) + \"--->\"\n",
        "      itr = itr.next\n",
        "\n",
        "    print(l_l_str)"
      ],
      "metadata": {
        "id": "S-3s7yTXyIwb"
      },
      "execution_count": 2,
      "outputs": []
    },
    {
      "cell_type": "code",
      "execution_count": 6,
      "metadata": {
        "id": "HPQX47bpKBWS"
      },
      "outputs": [],
      "source": [
        "class Solution():\n",
        "\n",
        "  def merge2SortedLinkedList(self, l1: LinkedList, l2: LinkedList):\n",
        "    dummy = LinkedList()\n",
        "    tail = dummy\n",
        "    l1, l2 = l1.head, l2.head\n",
        "\n",
        "    while l1.data and l2.data:\n",
        "      if l1.data < l2.data:\n",
        "        tail.next = l1\n",
        "        l1 = l1.next\n",
        "      else:\n",
        "        tail.next = l2\n",
        "        l2 = l2.next\n",
        "      tail = tail.next\n",
        "\n",
        "      if l1:\n",
        "        tail.next = l1\n",
        "      elif l2:\n",
        "        tail.next = l2\n",
        "      \n",
        "      return dummy.next.data\n",
        "    "
      ]
    },
    {
      "cell_type": "code",
      "source": [
        "l1 = LinkedList()\n",
        "l1.add(1)\n",
        "l1.add(2)\n",
        "l1.add(4) \n",
        "l1.print()\n",
        "\n",
        "l2 = LinkedList()\n",
        "l2.add(1)\n",
        "l2.add(3)\n",
        "l2.add(4)\n",
        "l2.print()"
      ],
      "metadata": {
        "colab": {
          "base_uri": "https://localhost:8080/"
        },
        "id": "zo5xTh-m0CdT",
        "outputId": "b45c5a32-d6c6-4f58-c3eb-7c6b5645ac72"
      },
      "execution_count": 7,
      "outputs": [
        {
          "output_type": "stream",
          "name": "stdout",
          "text": [
            "1--->2--->4--->\n",
            "1--->3--->4--->\n"
          ]
        }
      ]
    },
    {
      "cell_type": "code",
      "source": [
        "solution = Solution()\n",
        "print(solution.merge2SortedLinkedList(l1, l2))"
      ],
      "metadata": {
        "colab": {
          "base_uri": "https://localhost:8080/"
        },
        "id": "Fil4vuu_PMK9",
        "outputId": "39aabdba-01b4-4fba-9654-d09f128186d7"
      },
      "execution_count": 8,
      "outputs": [
        {
          "output_type": "stream",
          "name": "stdout",
          "text": [
            "1\n"
          ]
        }
      ]
    }
  ]
}