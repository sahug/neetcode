{
  "nbformat": 4,
  "nbformat_minor": 0,
  "metadata": {
    "colab": {
      "name": "Neetcode - Binary Search - Koko Eating Bananas.ipynb",
      "provenance": [],
      "collapsed_sections": [],
      "authorship_tag": "ABX9TyNWN8JE9maNl8XMWJ2Qd5hA",
      "include_colab_link": true
    },
    "kernelspec": {
      "name": "python3",
      "display_name": "Python 3"
    },
    "language_info": {
      "name": "python"
    }
  },
  "cells": [
    {
      "cell_type": "markdown",
      "metadata": {
        "id": "view-in-github",
        "colab_type": "text"
      },
      "source": [
        "<a href=\"https://colab.research.google.com/github/sahug/neetcode/blob/main/Neetcode%20-%20Binary%20Search%20-%20Koko%20Eating%20Bananas.ipynb\" target=\"_parent\"><img src=\"https://colab.research.google.com/assets/colab-badge.svg\" alt=\"Open In Colab\"/></a>"
      ]
    },
    {
      "cell_type": "markdown",
      "source": [
        "**Neetcode - Binary Search - Koko Eating Bananas**\n"
      ],
      "metadata": {
        "id": "6nW7FfkgN6dm"
      }
    },
    {
      "cell_type": "markdown",
      "source": [
        "**Neetcode - Binary Search - Koko Eating Bananas**\n",
        "\n",
        "Koko loves to eat bananas. There are `n` piles of bananas, the ith pile has `piles[i]` bananas. The guards have gone and will come back in `h` hours.\n",
        "\n",
        "Koko can decide her bananas-per-hour eating speed of `k`. Each hour, she chooses some pile of bananas and eats k bananas from that pile. If the pile has less than k bananas, she eats all of them instead and will not eat any more bananas during this hour.\n",
        "\n",
        "Koko likes to eat slowly but still wants to finish eating all the bananas before the guards return.\n",
        "\n",
        "Return the minimum integer `k` such that she can eat all the bananas within `h` hours.\n",
        "\n",
        "**Example 1:**\n",
        "```\n",
        "Input: piles = [3,6,7,11], h = 8\n",
        "Output: 4\n",
        "```\n",
        "**Example 2:**\n",
        "```\n",
        "Input: piles = [30,11,23,4,20], h = 5\n",
        "Output: 30\n",
        "```\n",
        "**Example 3:**\n",
        "```\n",
        "Input: piles = [30,11,23,4,20], h = 6\n",
        "Output: 23\n",
        "```"
      ],
      "metadata": {
        "id": "qdLtXtlMOJWF"
      }
    },
    {
      "cell_type": "code",
      "execution_count": 30,
      "metadata": {
        "id": "HPQX47bpKBWS"
      },
      "outputs": [],
      "source": [
        "import math\n",
        "from typing import List\n",
        "\n",
        "class Solution():\n",
        "  # The max # of banana Koko can eat is the max of the pile size.\n",
        "  # We start from 1 to max pile size and see which is the optimal number for Koko to eat all bananas in given time.\n",
        "  def kokoEatingBananas(self, piles: List[int], h: int) -> int:   \n",
        "    l, r = 1, max(piles)   \n",
        "    res = r\n",
        "\n",
        "    while l <= r:      \n",
        "      k = (l + r) // 2     \n",
        "      hr = 0        \n",
        "      \n",
        "      for p in piles:\n",
        "        hr += math.ceil(p/k)\n",
        "      \n",
        "      if hr <= h:\n",
        "        res = min(res, k)\n",
        "        r = k - 1\n",
        "      else:\n",
        "        l = k + 1\n",
        "    return res"
      ]
    },
    {
      "cell_type": "code",
      "source": [
        "solution = Solution()\n",
        "print(solution.kokoEatingBananas([3,6,7,11], 8))\n",
        "print(solution.kokoEatingBananas([30,11,23,4,20], 5))\n",
        "print(solution.kokoEatingBananas([30,11,23,4,20], 6))"
      ],
      "metadata": {
        "colab": {
          "base_uri": "https://localhost:8080/"
        },
        "id": "Fil4vuu_PMK9",
        "outputId": "d4453b39-3a4a-41ae-c3a3-2ec096012a9f"
      },
      "execution_count": 31,
      "outputs": [
        {
          "output_type": "stream",
          "name": "stdout",
          "text": [
            "4\n",
            "30\n",
            "23\n"
          ]
        }
      ]
    }
  ]
}