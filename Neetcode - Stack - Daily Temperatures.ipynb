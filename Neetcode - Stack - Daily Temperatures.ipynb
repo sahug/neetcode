{
  "nbformat": 4,
  "nbformat_minor": 0,
  "metadata": {
    "colab": {
      "name": "Neetcode - Stack - Daily Temperatures.ipynb",
      "provenance": [],
      "authorship_tag": "ABX9TyNYu3DCVEJVnyEb3z3E6QzC",
      "include_colab_link": true
    },
    "kernelspec": {
      "name": "python3",
      "display_name": "Python 3"
    },
    "language_info": {
      "name": "python"
    }
  },
  "cells": [
    {
      "cell_type": "markdown",
      "metadata": {
        "id": "view-in-github",
        "colab_type": "text"
      },
      "source": [
        "<a href=\"https://colab.research.google.com/github/sahug/neetcode/blob/main/Neetcode%20-%20Stack%20-%20Daily%20Temperatures.ipynb\" target=\"_parent\"><img src=\"https://colab.research.google.com/assets/colab-badge.svg\" alt=\"Open In Colab\"/></a>"
      ]
    },
    {
      "cell_type": "markdown",
      "source": [
        "**Neetcode - Stack - Daily Temperatures**\n"
      ],
      "metadata": {
        "id": "6nW7FfkgN6dm"
      }
    },
    {
      "cell_type": "markdown",
      "source": [
        "Given an array of integers **temperatures** represents the daily temperatures, return an array **answer** such that **answer[i]** *is the number of days you have to wait after the ith day to get a warmer temperature*. If there is no future day for which this is possible, keep **answer[i] == 0** instead.\n",
        "\n",
        "**Example 1:**\n",
        "```\n",
        "Input: temperatures = [73,74,75,71,69,72,76,73]\n",
        "Output: [1,1,4,2,1,1,0,0]\n",
        "```\n",
        "\n",
        "**Example 2:**\n",
        "```\n",
        "Input: temperatures = [30,40,50,60]\n",
        "Output: [1,1,1,0]\n",
        "```\n",
        "\n",
        "**Example 3:**\n",
        "```\n",
        "Input: temperatures = [30,60,90]\n",
        "Output: [1,1,0]\n",
        "```"
      ],
      "metadata": {
        "id": "qdLtXtlMOJWF"
      }
    },
    {
      "cell_type": "code",
      "execution_count": 25,
      "metadata": {
        "id": "HPQX47bpKBWS"
      },
      "outputs": [],
      "source": [
        "from typing import List\n",
        "class Solution():\n",
        "\n",
        "  def temperature(self, temp: List[int]) -> List[int]:\n",
        "    res = [0]*len(temp)\n",
        "    stack = [] # Pair: [temp, index]\n",
        "\n",
        "    for i, t in enumerate(temp):\n",
        "      # Compare temp with lasy temp added in stack\n",
        "      while stack and t > stack[-1][0]:\n",
        "        stackT, stackI = stack.pop()\n",
        "        res[stackI] = (i - stackI)\n",
        "      stack.append([t, i])\n",
        "    return res"
      ]
    },
    {
      "cell_type": "code",
      "source": [
        "solution = Solution()\n",
        "print(solution.temperature([73,74,75,71,69,72,76,73]))\n",
        "print(solution.temperature([30,40,50,60]))\n",
        "print(solution.temperature([30,60,90]))"
      ],
      "metadata": {
        "colab": {
          "base_uri": "https://localhost:8080/"
        },
        "id": "Fil4vuu_PMK9",
        "outputId": "b6be691b-c4d1-4aef-8e6c-2bd6a1397a11"
      },
      "execution_count": 26,
      "outputs": [
        {
          "output_type": "stream",
          "name": "stdout",
          "text": [
            "[1, 1, 4, 2, 1, 1, 0, 0]\n",
            "[1, 1, 1, 0]\n",
            "[1, 1, 0]\n"
          ]
        }
      ]
    }
  ]
}