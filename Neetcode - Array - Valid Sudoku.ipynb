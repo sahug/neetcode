{
  "nbformat": 4,
  "nbformat_minor": 0,
  "metadata": {
    "colab": {
      "name": "Neetcode - Array - Valid Sudoku.ipynb",
      "provenance": [],
      "authorship_tag": "ABX9TyOP8k4UiiYQbC8BPOJDOyTG",
      "include_colab_link": true
    },
    "kernelspec": {
      "name": "python3",
      "display_name": "Python 3"
    },
    "language_info": {
      "name": "python"
    }
  },
  "cells": [
    {
      "cell_type": "markdown",
      "metadata": {
        "id": "view-in-github",
        "colab_type": "text"
      },
      "source": [
        "<a href=\"https://colab.research.google.com/github/sahug/neetcode/blob/main/Neetcode%20-%20Array%20-%20Valid%20Sudoku.ipynb\" target=\"_parent\"><img src=\"https://colab.research.google.com/assets/colab-badge.svg\" alt=\"Open In Colab\"/></a>"
      ]
    },
    {
      "cell_type": "markdown",
      "source": [
        "**Neetcode - Array - Valid Sudoku**"
      ],
      "metadata": {
        "id": "0AgtVKj7vAti"
      }
    },
    {
      "cell_type": "markdown",
      "source": [
        "Determine if a `9 x 9` Sudoku board is valid. Only the filled cells need to be validated according to the following rules:\n",
        "\n",
        "- Each row must contain the digits `1 - 9` without repetition.\n",
        "- Each column must contain the digits `1 - 9` without repetition.\n",
        "- Each of the nine `3 x 3` sub-boxes of the grid must contain the digits `1 - 9` without repetition.\n",
        "\n",
        "**Note:**\n",
        "\n",
        "- A Sudoku board (partially filled) could be valid but is not necessarily solvable.\n",
        "- Only the filled cells need to be validated according to the mentioned rules.\n",
        "\n",
        "![image.png](data:image/png;base64,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)"
      ],
      "metadata": {
        "id": "2DXu5QJ1u3XD"
      }
    },
    {
      "cell_type": "code",
      "source": [
        "from typing import List\n",
        "from collections import defaultdict\n",
        "class Solution:\n",
        "  def validSudoku(self, sudoku: List[str]) -> bool:    \n",
        "      cols = defaultdict(set)\n",
        "      rows = defaultdict(set)\n",
        "      squares = defaultdict(set) # key = (r /3, c /3)    \n",
        "\n",
        "      for r in range(9):\n",
        "          for c in range(9):\n",
        "              if sudoku[r][c] == \".\":\n",
        "                  continue\n",
        "              if (sudoku[r][c] in rows[r] or\n",
        "                  sudoku[r][c] in cols[c] or\n",
        "                  sudoku[r][c] in squares[(r // 3, c // 3)]):\n",
        "                  return False\n",
        "              cols[c].add(sudoku[r][c])\n",
        "              rows[r].add(sudoku[r][c])\n",
        "              squares[(r // 3, c // 3)].add(sudoku[r][c])\n",
        "              \n",
        "      return True"
      ],
      "metadata": {
        "id": "0iNTz4FD1bE8"
      },
      "execution_count": 7,
      "outputs": []
    },
    {
      "cell_type": "code",
      "source": [
        "sudoku1 = [ [\"5\",\"3\",\".\",\".\",\"7\",\".\",\".\",\".\",\".\"]\n",
        "          ,[\"6\",\".\",\".\",\"1\",\"9\",\"5\",\".\",\".\",\".\"]\n",
        "          ,[\".\",\"9\",\"8\",\".\",\".\",\".\",\".\",\"6\",\".\"]\n",
        "          ,[\"8\",\".\",\".\",\".\",\"6\",\".\",\".\",\".\",\"3\"]\n",
        "          ,[\"4\",\".\",\".\",\"8\",\".\",\"3\",\".\",\".\",\"1\"]\n",
        "          ,[\"7\",\".\",\".\",\".\",\"2\",\".\",\".\",\".\",\"6\"]\n",
        "          ,[\".\",\"6\",\".\",\".\",\".\",\".\",\"2\",\"8\",\".\"]\n",
        "          ,[\".\",\".\",\".\",\"4\",\"1\",\"9\",\".\",\".\",\"5\"]\n",
        "          ,[\".\",\".\",\".\",\".\",\"8\",\".\",\".\",\"7\",\"9\"]]"
      ],
      "metadata": {
        "id": "Vf040auqMXZL"
      },
      "execution_count": 8,
      "outputs": []
    },
    {
      "cell_type": "code",
      "source": [
        " sudoku2 = [[\"8\",\"3\",\".\",\".\",\"7\",\".\",\".\",\".\",\".\"]\n",
        "            ,[\"6\",\".\",\".\",\"1\",\"9\",\"5\",\".\",\".\",\".\"]\n",
        "            ,[\".\",\"9\",\"8\",\".\",\".\",\".\",\".\",\"6\",\".\"]\n",
        "            ,[\"8\",\".\",\".\",\".\",\"6\",\".\",\".\",\".\",\"3\"]\n",
        "            ,[\"4\",\".\",\".\",\"8\",\".\",\"3\",\".\",\".\",\"1\"]\n",
        "            ,[\"7\",\".\",\".\",\".\",\"2\",\".\",\".\",\".\",\"6\"]\n",
        "            ,[\".\",\"6\",\".\",\".\",\".\",\".\",\"2\",\"8\",\".\"]\n",
        "            ,[\".\",\".\",\".\",\"4\",\"1\",\"9\",\".\",\".\",\"5\"]\n",
        "            ,[\".\",\".\",\".\",\".\",\"8\",\".\",\".\",\"7\",\"9\"]]"
      ],
      "metadata": {
        "id": "isjpPR1-Vecf"
      },
      "execution_count": 9,
      "outputs": []
    },
    {
      "cell_type": "code",
      "source": [
        "solution = Solution()\n",
        "print(solution.validSudoku(sudoku1))\n",
        "print(solution.validSudoku(sudoku2))"
      ],
      "metadata": {
        "colab": {
          "base_uri": "https://localhost:8080/"
        },
        "id": "Vm4Xy22g18vp",
        "outputId": "ce15c828-74a9-4a7c-f306-678500c2687a"
      },
      "execution_count": 10,
      "outputs": [
        {
          "output_type": "stream",
          "name": "stdout",
          "text": [
            "True\n",
            "False\n"
          ]
        }
      ]
    }
  ]
}