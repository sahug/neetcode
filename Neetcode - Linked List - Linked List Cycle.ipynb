{
  "nbformat": 4,
  "nbformat_minor": 0,
  "metadata": {
    "colab": {
      "name": "Neetcode - Linked List - Linked List Cycle.ipynb",
      "provenance": [],
      "collapsed_sections": [],
      "authorship_tag": "ABX9TyNCMT2elBMfCjSovLM8mbEB",
      "include_colab_link": true
    },
    "kernelspec": {
      "name": "python3",
      "display_name": "Python 3"
    },
    "language_info": {
      "name": "python"
    }
  },
  "cells": [
    {
      "cell_type": "markdown",
      "metadata": {
        "id": "view-in-github",
        "colab_type": "text"
      },
      "source": [
        "<a href=\"https://colab.research.google.com/github/sahug/neetcode/blob/main/Neetcode%20-%20Linked%20List%20-%20Linked%20List%20Cycle.ipynb\" target=\"_parent\"><img src=\"https://colab.research.google.com/assets/colab-badge.svg\" alt=\"Open In Colab\"/></a>"
      ]
    },
    {
      "cell_type": "markdown",
      "source": [
        "**Neetcode - Linked List - Linked List Cycle**\n",
        "\n",
        "Given `head`, the head of a linked list, determine if the linked list has a cycle in it.\n",
        "\n",
        "There is a cycle in a linked list if there is some node in the list that can be reached again by continuously following the `next` pointer. Internally, `pos` is used to denote the index of the node that tail's next pointer is connected to. **Note that** pos **is not passed as a parameter**.\n",
        "\n",
        "Return `true` if there is a cycle in the linked list. Otherwise, return `false`.\n",
        "\n",
        "**Example 1:**\n",
        "\n",
        "![image.png](data:image/png;base64,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)\n",
        "```\n",
        "Input: head = [3,2,0,-4], pos = 1\n",
        "Output: true\n",
        "Explanation: There is a cycle in the linked list, where the tail connects to the 1st node (0-indexed).\n",
        "```\n",
        "\n",
        "**Example 2:**\n",
        "\n",
        "![image.png](data:image/png;base64,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)\n",
        "```\n",
        "Input: head = [1,2], pos = 0\n",
        "Output: true\n",
        "Explanation: There is a cycle in the linked list, where the tail connects to the 0th node.\n",
        "```\n",
        "**Example 3:**\n",
        "\n",
        "![image.png](data:image/png;base64,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)\n",
        "```\n",
        "Input: head = [1], pos = -1\n",
        "Output: false\n",
        "Explanation: There is no cycle in the linked list.\n",
        "```"
      ],
      "metadata": {
        "id": "qdLtXtlMOJWF"
      }
    },
    {
      "cell_type": "code",
      "source": [
        "class Node():\n",
        "\n",
        "  def __init__(self, data, next):\n",
        "    self.data = data\n",
        "    self.next = next\n",
        "\n",
        "class LinkedList():\n",
        "\n",
        "  def __init__(self):\n",
        "    self.head = None\n",
        "    \n",
        "  def add(self, data):    \n",
        "    if self.head is None:      \n",
        "      self.head = Node(data, None)      \n",
        "      return\n",
        "       \n",
        "    itr = self.head     \n",
        "\n",
        "    while itr.next:        \n",
        "      itr = itr.next\n",
        "\n",
        "    itr.next = Node(data, None)\n",
        "  \n",
        "  def print(self):\n",
        "  # If LL is empty \n",
        "    if self.head is None:\n",
        "      print(\"Linked List is empty\")\n",
        "      return\n",
        "\n",
        "    itr = self.head\n",
        "\n",
        "    l_l_str = \"\"\n",
        "\n",
        "    while itr:\n",
        "      l_l_str += str(itr.data) + \"--->\"\n",
        "      itr = itr.next\n",
        "\n",
        "    print(l_l_str)"
      ],
      "metadata": {
        "id": "S-3s7yTXyIwb"
      },
      "execution_count": 25,
      "outputs": []
    },
    {
      "cell_type": "markdown",
      "source": [
        "**Note: We cannot execute it completly as we don't have a circular linked list to input.**"
      ],
      "metadata": {
        "id": "oeuctCzRBxOI"
      }
    },
    {
      "cell_type": "code",
      "execution_count": 26,
      "metadata": {
        "id": "HPQX47bpKBWS"
      },
      "outputs": [],
      "source": [
        "class Solution():\n",
        "  \n",
        "  # Ides:\n",
        "  # We will use 2 pointers, fast and slow. \n",
        "  # If the slow pointer catches up with the fast pointers then we have a loop.\n",
        "  def linkedListCycle(self, ll: LinkedList) -> bool:\n",
        "\n",
        "    slow, fast = ll.head, ll.head\n",
        "    while fast and fast.next:\n",
        "      slow = slow.next\n",
        "      fast = fast.next.next\n",
        "      if slow == fast:\n",
        "        return True      \n",
        "    return False"
      ]
    }
  ]
}