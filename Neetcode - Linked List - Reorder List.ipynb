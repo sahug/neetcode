{
  "nbformat": 4,
  "nbformat_minor": 0,
  "metadata": {
    "colab": {
      "name": "Neetcode - Linked List - Reorder List.ipynb",
      "provenance": [],
      "collapsed_sections": [],
      "authorship_tag": "ABX9TyMZjw5SexFdnvHzcUDZiT3r",
      "include_colab_link": true
    },
    "kernelspec": {
      "name": "python3",
      "display_name": "Python 3"
    },
    "language_info": {
      "name": "python"
    }
  },
  "cells": [
    {
      "cell_type": "markdown",
      "metadata": {
        "id": "view-in-github",
        "colab_type": "text"
      },
      "source": [
        "<a href=\"https://colab.research.google.com/github/sahug/neetcode/blob/main/Neetcode%20-%20Linked%20List%20-%20Reorder%20List.ipynb\" target=\"_parent\"><img src=\"https://colab.research.google.com/assets/colab-badge.svg\" alt=\"Open In Colab\"/></a>"
      ]
    },
    {
      "cell_type": "markdown",
      "source": [
        "**Neetcode - Linked List - Reorder List**\n",
        "\n",
        "You are given the head of a singly linked-list. The list can be represented as:\n",
        "\n",
        "`L0 → L1 → … → Ln - 1 → Ln`\n",
        "\n",
        "Reorder the list to be on the following form:\n",
        "\n",
        "`L0 → Ln → L1 → Ln - 1 → L2 → Ln - 2 → …`\n",
        "\n",
        "You may not modify the values in the list's nodes. Only nodes themselves may be changed.\n",
        "\n",
        "**Example 1:**\n",
        "```\n",
        "Input: head = [1,2,3,4]\n",
        "Output: [1,4,2,3]\n",
        "```\n",
        "**Example 2:**\n",
        "```\n",
        "Input: head = [1,2,3,4,5]\n",
        "Output: [1,5,2,4,3]\n",
        "```"
      ],
      "metadata": {
        "id": "qdLtXtlMOJWF"
      }
    },
    {
      "cell_type": "code",
      "source": [
        "class Node():\n",
        "\n",
        "  def __init__(self, data, next):\n",
        "    self.data = data\n",
        "    self.next = next\n",
        "\n",
        "class LinkedList():\n",
        "\n",
        "  def __init__(self):\n",
        "    self.head = None\n",
        "    \n",
        "  def add(self, data):    \n",
        "    if self.head is None:      \n",
        "      self.head = Node(data, None)      \n",
        "      return\n",
        "       \n",
        "    itr = self.head     \n",
        "\n",
        "    while itr.next:        \n",
        "      itr = itr.next\n",
        "\n",
        "    itr.next = Node(data, None)\n",
        "  \n",
        "  def print(self):\n",
        "  # If LL is empty \n",
        "    if self.head is None:\n",
        "      print(\"Linked List is empty\")\n",
        "      return\n",
        "\n",
        "    itr = self.head\n",
        "\n",
        "    l_l_str = \"\"\n",
        "\n",
        "    while itr:\n",
        "      l_l_str += str(itr.data) + \"--->\"\n",
        "      itr = itr.next\n",
        "\n",
        "    print(l_l_str)"
      ],
      "metadata": {
        "id": "S-3s7yTXyIwb"
      },
      "execution_count": 2,
      "outputs": []
    },
    {
      "cell_type": "code",
      "execution_count": 12,
      "metadata": {
        "id": "HPQX47bpKBWS"
      },
      "outputs": [],
      "source": [
        "class Solution():\n",
        "\n",
        "  # Idea: \n",
        "  # Find the 2nd half of the list. \n",
        "  # Reverse the pointers(next) of the 2nd half of the list. EX: 4->5->6 will become 4<-5<-6\n",
        "  # Iterate the 1st and 2nd half and pick the nodes as needed.\n",
        "\n",
        "  def reorderList(self, ll: LinkedList) -> LinkedList:\n",
        "    # Find the middle\n",
        "    slow, fast = ll.head, ll.head.next\n",
        "\n",
        "    # Do while the fast reaches the end.\n",
        "    # Slow will move by 1 pos\n",
        "    # Fast will move by 2 pos\n",
        "    while fast and fast.next:\n",
        "      slow = slow.next\n",
        "      fast = fast.next.next\n",
        "\n",
        "    # Reverse second half\n",
        "    second = slow.next\n",
        "    prev = slow.next = None\n",
        "    while second:\n",
        "      tmp = second.next\n",
        "      second.next = prev\n",
        "      prev = second\n",
        "      second = tmp\n",
        "\n",
        "    # Merge both halfs\n",
        "    first, second = ll.head, prev\n",
        "    while second:\n",
        "      tmp1, tmp2 = first.next, second.next\n",
        "      first.next = second\n",
        "      second.next = tmp1\n",
        "      first, second = tmp1, tmp2\n",
        "\n",
        "    return ll.print()"
      ]
    },
    {
      "cell_type": "code",
      "source": [
        "l1 = LinkedList()\n",
        "l1.add(1)\n",
        "l1.add(2)\n",
        "l1.add(4) \n",
        "l1.add(5)\n",
        "l1.add(6)\n",
        "l1.add(7)\n",
        "l1.print()"
      ],
      "metadata": {
        "colab": {
          "base_uri": "https://localhost:8080/"
        },
        "id": "zo5xTh-m0CdT",
        "outputId": "8ece680e-92af-4ce4-ba28-1aae89e9460f"
      },
      "execution_count": 16,
      "outputs": [
        {
          "output_type": "stream",
          "name": "stdout",
          "text": [
            "1--->2--->4--->5--->6--->7--->\n"
          ]
        }
      ]
    },
    {
      "cell_type": "code",
      "source": [
        "solution = Solution()\n",
        "print(solution.reorderList(l1))"
      ],
      "metadata": {
        "colab": {
          "base_uri": "https://localhost:8080/"
        },
        "id": "Fil4vuu_PMK9",
        "outputId": "91030612-3aa1-4974-9ddb-901dda70c041"
      },
      "execution_count": 14,
      "outputs": [
        {
          "output_type": "stream",
          "name": "stdout",
          "text": [
            "1--->7--->2--->6--->4--->5--->\n",
            "None\n"
          ]
        }
      ]
    }
  ]
}