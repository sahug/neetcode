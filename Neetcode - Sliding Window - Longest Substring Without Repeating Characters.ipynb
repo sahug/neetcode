{
  "nbformat": 4,
  "nbformat_minor": 0,
  "metadata": {
    "colab": {
      "name": "Neetcode - Sliding Window - Longest Substring Without Repeating Characters.ipynb",
      "provenance": [],
      "authorship_tag": "ABX9TyPbVZZDE+/GSYezxr65e6Yq",
      "include_colab_link": true
    },
    "kernelspec": {
      "name": "python3",
      "display_name": "Python 3"
    },
    "language_info": {
      "name": "python"
    }
  },
  "cells": [
    {
      "cell_type": "markdown",
      "metadata": {
        "id": "view-in-github",
        "colab_type": "text"
      },
      "source": [
        "<a href=\"https://colab.research.google.com/github/sahug/neetcode/blob/main/Neetcode%20-%20Sliding%20Window%20-%20Longest%20Substring%20Without%20Repeating%20Characters.ipynb\" target=\"_parent\"><img src=\"https://colab.research.google.com/assets/colab-badge.svg\" alt=\"Open In Colab\"/></a>"
      ]
    },
    {
      "cell_type": "markdown",
      "source": [
        "**Neetcode - Sliding Window - Longest Substring Without Repeating Characters**\n"
      ],
      "metadata": {
        "id": "6nW7FfkgN6dm"
      }
    },
    {
      "cell_type": "markdown",
      "source": [
        "Given a string **s**, find the length of the **longest substring** without repeating characters.\n",
        "\n",
        "**Example 1:**\n",
        "```\n",
        "Input: s = \"abcabcbb\"\n",
        "Output: 3\n",
        "Explanation: The answer is \"abc\", with the length of 3.\n",
        "```\n",
        "\n",
        "**Example 2:**\n",
        "```\n",
        "Input: s = \"abcabcbb\"\n",
        "Output: 3\n",
        "Explanation: The answer is \"abc\", with the length of 3.\n",
        "```\n",
        "\n",
        "**Example 3:**\n",
        "```\n",
        "Input: s = \"pwwkew\"\n",
        "Output: 3\n",
        "Explanation: The answer is \"wke\", with the length of 3.\n",
        "Notice that the answer must be a substring, \"pwke\" is a subsequence and not a substring.\n",
        "```"
      ],
      "metadata": {
        "id": "qdLtXtlMOJWF"
      }
    },
    {
      "cell_type": "code",
      "execution_count": 109,
      "metadata": {
        "id": "HPQX47bpKBWS"
      },
      "outputs": [],
      "source": [
        "from typing import List\n",
        "class Solution:\n",
        "\n",
        "  def longestSubstring(self, s: str) -> int:\n",
        "    charSet = set()\n",
        "    l = 0\n",
        "    res = 0\n",
        "    \n",
        "    for r in range(len(s)):\n",
        "        while s[r] in charSet:\n",
        "            charSet.remove(s[l])\n",
        "            l += 1\n",
        "        charSet.add(s[r])\n",
        "        res = max(res, r - l + 1)\n",
        "    return res  \n",
        "    "
      ]
    },
    {
      "cell_type": "code",
      "source": [
        "solution = Solution()\n",
        "print(solution.longestSubstring(\"abcabcbb\"))\n",
        "print(solution.longestSubstring(\"bbbbb\"))\n",
        "print(solution.longestSubstring(\"pwwkew\"))"
      ],
      "metadata": {
        "colab": {
          "base_uri": "https://localhost:8080/"
        },
        "id": "Fil4vuu_PMK9",
        "outputId": "f21cddfe-7e82-4d01-fd4f-e5c87dcde626"
      },
      "execution_count": 110,
      "outputs": [
        {
          "output_type": "stream",
          "name": "stdout",
          "text": [
            "3\n",
            "1\n",
            "3\n"
          ]
        }
      ]
    }
  ]
}