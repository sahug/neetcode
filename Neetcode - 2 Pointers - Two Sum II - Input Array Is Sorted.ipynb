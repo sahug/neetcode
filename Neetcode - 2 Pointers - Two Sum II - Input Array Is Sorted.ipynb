{
  "nbformat": 4,
  "nbformat_minor": 0,
  "metadata": {
    "colab": {
      "name": "Neetcode - 2 Pointers - Two Sum II - Input Array Is Sorted.ipynb",
      "provenance": [],
      "authorship_tag": "ABX9TyNOPlniVIpl/q9wCZJzDX3N",
      "include_colab_link": true
    },
    "kernelspec": {
      "name": "python3",
      "display_name": "Python 3"
    },
    "language_info": {
      "name": "python"
    }
  },
  "cells": [
    {
      "cell_type": "markdown",
      "metadata": {
        "id": "view-in-github",
        "colab_type": "text"
      },
      "source": [
        "<a href=\"https://colab.research.google.com/github/sahug/neetcode/blob/main/Neetcode%20-%202%20Pointers%20-%20Two%20Sum%20II%20-%20Input%20Array%20Is%20Sorted.ipynb\" target=\"_parent\"><img src=\"https://colab.research.google.com/assets/colab-badge.svg\" alt=\"Open In Colab\"/></a>"
      ]
    },
    {
      "cell_type": "markdown",
      "source": [
        "**Neetcode - 2 Pointers - Two Sum II - Input Array Is Sorted**"
      ],
      "metadata": {
        "id": "6nW7FfkgN6dm"
      }
    },
    {
      "cell_type": "markdown",
      "source": [
        "Given a **1-indexed** array of integers numbers that is already **sorted in non-decreasing order**, find two numbers such that they add up to a specific **target** number. Let these two numbers be `numbers[index1]` and `numbers[index2]` where `1 <= index1 < index2 <= numbers.length`.\n",
        "\n",
        "Return the indices of the two numbers, **index1** and **index2**, **added by one** as an integer `array [index1, index2]` of length `2`.\n",
        "\n",
        "The tests are generated such that there is **exactly one solution**. You **may not** use the same element twice.\n",
        "\n",
        "Your solution must use only constant extra space.\n",
        "\n",
        "**Example 1:**\n",
        "```\n",
        "Input: numbers = [2,7,11,15], target = 9\n",
        "Output: [1,2]\n",
        "Explanation: The sum of 2 and 7 is 9. Therefore, index1 = 1, index2 = 2. We return [1, 2].\n",
        "```\n",
        "\n",
        "**Example 2:**\n",
        "```\n",
        "Input: numbers = [-1,0], target = -1\n",
        "Output: [1,2]\n",
        "Explanation: The sum of -1 and 0 is -1. Therefore index1 = 1, index2 = 2. We return [1, 2].\n",
        "```\n",
        "\n",
        "**Example 3:**\n",
        "```\n",
        "Input: s = \" \"\n",
        "Output: true\n",
        "Explanation: s is an empty string \"\" after removing non-alphanumeric characters.\n",
        "Since an empty string reads the same forward and backward, it is a palindrome.\n",
        "```"
      ],
      "metadata": {
        "id": "qdLtXtlMOJWF"
      }
    },
    {
      "cell_type": "code",
      "execution_count": 51,
      "metadata": {
        "id": "HPQX47bpKBWS"
      },
      "outputs": [],
      "source": [
        "from typing import List\n",
        "class Solution:\n",
        "\n",
        "  def twoSum(self, nums: List[int], target: int) -> List[int]:\n",
        "    start, end = 0, len(nums) - 1\n",
        "    while start <= end:\n",
        "      curr_sum = nums[start] + nums[end]\n",
        "\n",
        "      if curr_sum > target:\n",
        "        end -= 1\n",
        "      elif curr_sum < target:\n",
        "        start += 1\n",
        "      else:\n",
        "        return [start +1, end + 1]"
      ]
    },
    {
      "cell_type": "code",
      "source": [
        "solution = Solution()\n",
        "print(solution.twoSum([2,7,11,15], 9))\n",
        "print(solution.twoSum([2,3,4], 6 ))\n",
        "print(solution.twoSum([-1,0], -1 ))"
      ],
      "metadata": {
        "colab": {
          "base_uri": "https://localhost:8080/"
        },
        "id": "Fil4vuu_PMK9",
        "outputId": "05770b82-fc96-4a7a-b910-7ca4eebc4e50"
      },
      "execution_count": 52,
      "outputs": [
        {
          "output_type": "stream",
          "name": "stdout",
          "text": [
            "[1, 2]\n",
            "[1, 3]\n",
            "[1, 2]\n"
          ]
        }
      ]
    }
  ]
}