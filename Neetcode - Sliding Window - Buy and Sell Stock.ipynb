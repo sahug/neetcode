{
  "nbformat": 4,
  "nbformat_minor": 0,
  "metadata": {
    "colab": {
      "name": "Neetcode - Sliding Window - Buy and Sell Stock.ipynb",
      "provenance": [],
      "authorship_tag": "ABX9TyMGVSoYcmoJQ/qDiXoq66W3",
      "include_colab_link": true
    },
    "kernelspec": {
      "name": "python3",
      "display_name": "Python 3"
    },
    "language_info": {
      "name": "python"
    }
  },
  "cells": [
    {
      "cell_type": "markdown",
      "metadata": {
        "id": "view-in-github",
        "colab_type": "text"
      },
      "source": [
        "<a href=\"https://colab.research.google.com/github/sahug/neetcode/blob/main/Neetcode%20-%20Sliding%20Window%20-%20Buy%20and%20Sell%20Stock.ipynb\" target=\"_parent\"><img src=\"https://colab.research.google.com/assets/colab-badge.svg\" alt=\"Open In Colab\"/></a>"
      ]
    },
    {
      "cell_type": "markdown",
      "source": [
        "**Neetcode - Sliding Window - Buy and Sell Stock**\n"
      ],
      "metadata": {
        "id": "6nW7FfkgN6dm"
      }
    },
    {
      "cell_type": "markdown",
      "source": [
        "You are given an array **prices** where **prices[i]** is the price of a given stock on the **ith** day.\n",
        "\n",
        "You want to maximize your profit by choosing a **single day** to buy one stock and choosing a **different day in the future to sell** that stock.\n",
        "\n",
        "Return *the maximum profit you can achieve from this transaction*. If you cannot achieve any profit, return 0.\n",
        "\n",
        "**Example 1:**\n",
        "```\n",
        "Input: prices = [7,1,5,3,6,4]\n",
        "Output: 5\n",
        "Explanation: Buy on day 2 (price = 1) and sell on day 5 (price = 6), profit = 6-1 = 5.\n",
        "Note that buying on day 2 and selling on day 1 is not allowed because you must buy before you sell.\n",
        "```\n",
        "\n",
        "**Example 2:**\n",
        "```\n",
        "Input: prices = [7,6,4,3,1]\n",
        "Output: 0\n",
        "Explanation: In this case, no transactions are done and the max profit = 0.\n",
        "```"
      ],
      "metadata": {
        "id": "qdLtXtlMOJWF"
      }
    },
    {
      "cell_type": "code",
      "execution_count": 93,
      "metadata": {
        "id": "HPQX47bpKBWS"
      },
      "outputs": [],
      "source": [
        "from typing import List\n",
        "class Solution:\n",
        "\n",
        "  def buyAndSellStock(self, prices: List[int]) -> List[int]:\n",
        "    res = 0\n",
        "    \n",
        "    l = 0\n",
        "    for r in range(1, len(prices)):\n",
        "      if prices[r] < prices[l]:\n",
        "          l = r\n",
        "      res = max(res, prices[r] - prices[l])\n",
        "    print(res)"
      ]
    },
    {
      "cell_type": "code",
      "source": [
        "solution = Solution()\n",
        "solution.buyAndSellStock([7,1,5,3,6,4])\n",
        "solution.buyAndSellStock([7,6,4,3,1])"
      ],
      "metadata": {
        "colab": {
          "base_uri": "https://localhost:8080/"
        },
        "id": "Fil4vuu_PMK9",
        "outputId": "09022e61-88df-4470-af3c-b7b10bca12fd"
      },
      "execution_count": 94,
      "outputs": [
        {
          "output_type": "stream",
          "name": "stdout",
          "text": [
            "5\n",
            "0\n"
          ]
        }
      ]
    }
  ]
}