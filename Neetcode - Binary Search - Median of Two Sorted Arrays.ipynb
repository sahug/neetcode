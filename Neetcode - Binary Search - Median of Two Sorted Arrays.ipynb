{
  "nbformat": 4,
  "nbformat_minor": 0,
  "metadata": {
    "colab": {
      "name": "Neetcode - Binary Search - Median of Two Sorted Arrays.ipynb",
      "provenance": [],
      "collapsed_sections": [],
      "authorship_tag": "ABX9TyPfUCsUJfCUVndNrKOLYhkY",
      "include_colab_link": true
    },
    "kernelspec": {
      "name": "python3",
      "display_name": "Python 3"
    },
    "language_info": {
      "name": "python"
    }
  },
  "cells": [
    {
      "cell_type": "markdown",
      "metadata": {
        "id": "view-in-github",
        "colab_type": "text"
      },
      "source": [
        "<a href=\"https://colab.research.google.com/github/sahug/neetcode/blob/main/Neetcode%20-%20Binary%20Search%20-%20Median%20of%20Two%20Sorted%20Arrays.ipynb\" target=\"_parent\"><img src=\"https://colab.research.google.com/assets/colab-badge.svg\" alt=\"Open In Colab\"/></a>"
      ]
    },
    {
      "cell_type": "markdown",
      "source": [
        "**Neetcode - Binary Search - Median of Two Sorted Arrays**\n",
        "\n",
        "Given two sorted arrays `nums1` and `nums2` of size `m` and `n` respectively, return the **median** of the two sorted arrays.\n",
        "\n",
        "The overall run time complexity should be `O(log (m+n))`.\n",
        "\n",
        "**Example 1:**\n",
        "```\n",
        "Input: nums1 = [1,3], nums2 = [2]\n",
        "Output: 2.00000\n",
        "Explanation: merged array = [1,2,3] and median is 2.\n",
        "```\n",
        "**Example 2:**\n",
        "```\n",
        "Input: nums1 = [1,2], nums2 = [3,4]\n",
        "Output: 2.50000\n",
        "Explanation: merged array = [1,2,3,4] and median is (2 + 3) / 2 = 2.5.\n",
        "```\n"
      ],
      "metadata": {
        "id": "qdLtXtlMOJWF"
      }
    },
    {
      "cell_type": "markdown",
      "source": [
        "**Approach 1**"
      ],
      "metadata": {
        "id": "bDHI8UFVqXlg"
      }
    },
    {
      "cell_type": "code",
      "execution_count": 88,
      "metadata": {
        "id": "HPQX47bpKBWS"
      },
      "outputs": [],
      "source": [
        "from typing import List\n",
        "class Solution():\n",
        "\n",
        "  def medianOf2SortedArray(self, nums1: List[int], nums2: List[int]) -> int:\n",
        "    A, B = nums1, nums2\n",
        "    total = len(nums1) + len(nums2)\n",
        "    half = total // 2\n",
        "    \n",
        "    # Making sure A i sthe smallest array.\n",
        "    if len(B) < len(A):\n",
        "        A, B = B, A\n",
        "    \n",
        "    l, r = 0, len(A) - 1\n",
        "    while True:\n",
        "        i = (l + r) // 2 # A\n",
        "        j = half - i - 2 # B\n",
        "    \n",
        "        Aleft = A[i] if i >= 0 else float(\"-infinity\")\n",
        "        Aright = A[i + 1] if (i + 1) < len(A) else float(\"infinity\")\n",
        "        Bleft = B[j] if j >= 0 else float(\"-infinity\")\n",
        "        Bright = B[j + 1] if (j + 1) < len(B) else float(\"infinity\")\n",
        "    \n",
        "        # partition is correct\n",
        "        if Aleft <= Bright and Bleft <= Aright:\n",
        "            # odd\n",
        "            if total % 2:\n",
        "                return min(Aright, Bright)\n",
        "            # even\n",
        "            return (max(Aleft, Bleft) + min(Aright, Bright)) / 2\n",
        "        elif Aleft > Bright:\n",
        "            r = i - 1\n",
        "        else:\n",
        "            l = i + 1"
      ]
    },
    {
      "cell_type": "code",
      "source": [
        "solution = Solution()\n",
        "print(solution.medianOf2SortedArray([1,3], [2]))\n",
        "print(solution.medianOf2SortedArray([1,2], [3,4]))\n",
        "print(solution.medianOf2SortedArray([1,2], [3,4]))\n",
        "print(solution.medianOf2SortedArray([1,2,3,4,5], [1,2,3,4,5]))\n",
        "print(solution.medianOf2SortedArray([1,2,3,4,5], [1,2,9,10,11]))\n",
        "print(solution.medianOf2SortedArray([1,2,3,4,5], [6,7,8,9,10]))"
      ],
      "metadata": {
        "colab": {
          "base_uri": "https://localhost:8080/"
        },
        "id": "Fil4vuu_PMK9",
        "outputId": "5cbb391a-5ff3-437d-d6c9-e12d40b3882e"
      },
      "execution_count": 89,
      "outputs": [
        {
          "output_type": "stream",
          "name": "stdout",
          "text": [
            "2\n",
            "2.5\n",
            "2.5\n",
            "3.0\n",
            "3.5\n",
            "5.5\n"
          ]
        }
      ]
    }
  ]
}