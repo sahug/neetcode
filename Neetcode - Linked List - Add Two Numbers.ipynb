{
  "nbformat": 4,
  "nbformat_minor": 0,
  "metadata": {
    "colab": {
      "name": "Neetcode - Linked List - Add Two Numbers.ipynb",
      "provenance": [],
      "collapsed_sections": [],
      "authorship_tag": "ABX9TyPEvfe75mRj1BfrpiBTH+m1",
      "include_colab_link": true
    },
    "kernelspec": {
      "name": "python3",
      "display_name": "Python 3"
    },
    "language_info": {
      "name": "python"
    }
  },
  "cells": [
    {
      "cell_type": "markdown",
      "metadata": {
        "id": "view-in-github",
        "colab_type": "text"
      },
      "source": [
        "<a href=\"https://colab.research.google.com/github/sahug/neetcode/blob/main/Neetcode%20-%20Linked%20List%20-%20Add%20Two%20Numbers.ipynb\" target=\"_parent\"><img src=\"https://colab.research.google.com/assets/colab-badge.svg\" alt=\"Open In Colab\"/></a>"
      ]
    },
    {
      "cell_type": "markdown",
      "source": [
        "**Neetcode - Linked List - Add Two Numbers**\n",
        "\n",
        "You are given two non-empty linked lists representing two non-negative integers. The digits are stored in reverse order, and each of their nodes contains a single digit. Add the two numbers and return the sum as a linked list.\n",
        "\n",
        "You may assume the two numbers do not contain any leading zero, except the number 0 itself.\n",
        "\n",
        "**Example 1:**\n",
        "```\n",
        "Input: l1 = [2,4,3], l2 = [5,6,4]\n",
        "Output: [7,0,8]\n",
        "Explanation: 342 + 465 = 807.\n",
        "```\n",
        "**Example 2:**\n",
        "```\n",
        "Input: l1 = [0], l2 = [0]\n",
        "Output: [0]\n",
        "```\n",
        "**Example 3:**\n",
        "```\n",
        "Input: l1 = [9,9,9,9,9,9,9], l2 = [9,9,9,9]\n",
        "Output: [8,9,9,9,0,0,0,1]\n",
        "```"
      ],
      "metadata": {
        "id": "qdLtXtlMOJWF"
      }
    },
    {
      "cell_type": "code",
      "source": [
        "class Node():\n",
        "\n",
        "  def __init__(self, data, next):\n",
        "    self.data = data\n",
        "    self.next = next\n",
        "\n",
        "class LinkedList():\n",
        "\n",
        "  def __init__(self):\n",
        "    self.head = None\n",
        "    \n",
        "  def add(self, data):    \n",
        "    if self.head is None:      \n",
        "      self.head = Node(data, None)      \n",
        "      return\n",
        "       \n",
        "    itr = self.head     \n",
        "\n",
        "    while itr.next:        \n",
        "      itr = itr.next\n",
        "\n",
        "    itr.next = Node(data, None)\n",
        "  \n",
        "  def print(self):\n",
        "  # If LL is empty \n",
        "    if self.head is None:\n",
        "      print(\"Linked List is empty\")\n",
        "      return\n",
        "\n",
        "    itr = self.head\n",
        "\n",
        "    l_l_str = \"\"\n",
        "\n",
        "    while itr:\n",
        "      l_l_str += str(itr.data) + \"--->\"\n",
        "      itr = itr.next\n",
        "\n",
        "    print(l_l_str)"
      ],
      "metadata": {
        "id": "S-3s7yTXyIwb"
      },
      "execution_count": 1,
      "outputs": []
    },
    {
      "cell_type": "code",
      "execution_count": 15,
      "metadata": {
        "id": "HPQX47bpKBWS"
      },
      "outputs": [],
      "source": [
        "class Solution():\n",
        "  \n",
        "  def addtwoNumbers(self, l1: LinkedList, l2: LinkedList) -> LinkedList:\n",
        "    \n",
        "    newList = LinkedList()\n",
        "    carry = 0\n",
        "\n",
        "    itr1, itr2 = l1.head, l2.head\n",
        "    while itr1 or itr2 or carry:\n",
        "      v1 = itr1.data if itr1 else 0\n",
        "      v2 = itr2.data if itr2 else 0\n",
        "\n",
        "      val = v1 + v2 + carry      \n",
        "      carry = val // 10\n",
        "      val = val % 10\n",
        "      newList.add(val)    \n",
        "\n",
        "      itr1 = itr1.next if itr1 else None\n",
        "      itr2 = itr2.next if itr2 else None\n",
        "\n",
        "    return newList.print()    "
      ]
    },
    {
      "cell_type": "code",
      "source": [
        "l1 = LinkedList()\n",
        "l1.add(2)\n",
        "l1.add(4)\n",
        "l1.add(3)\n",
        "\n",
        "l2 = LinkedList()\n",
        "l2.add(5)\n",
        "l2.add(6)\n",
        "l2.add(4)\n",
        "\n",
        "solution = Solution()\n",
        "solution.addtwoNumbers(l1, l2)"
      ],
      "metadata": {
        "colab": {
          "base_uri": "https://localhost:8080/"
        },
        "id": "EYhfiljhdj0M",
        "outputId": "862e0857-8495-47ac-dcb1-4a553ae72956"
      },
      "execution_count": 16,
      "outputs": [
        {
          "output_type": "stream",
          "name": "stdout",
          "text": [
            "7--->0--->8--->\n"
          ]
        }
      ]
    },
    {
      "cell_type": "code",
      "source": [
        "l1 = LinkedList()\n",
        "l1.add(0)\n",
        "\n",
        "l2 = LinkedList()\n",
        "l2.add(0)\n",
        "\n",
        "solution = Solution()\n",
        "solution.addtwoNumbers(l1, l2)"
      ],
      "metadata": {
        "colab": {
          "base_uri": "https://localhost:8080/"
        },
        "outputId": "22167599-bf0e-4a7f-f2d9-745949a50399",
        "id": "sjvCLK1rgdPf"
      },
      "execution_count": 17,
      "outputs": [
        {
          "output_type": "stream",
          "name": "stdout",
          "text": [
            "0--->\n"
          ]
        }
      ]
    },
    {
      "cell_type": "code",
      "source": [
        "l1 = LinkedList()\n",
        "l1.add(9)\n",
        "l1.add(9)\n",
        "l1.add(9)\n",
        "l1.add(9)\n",
        "l1.add(9)\n",
        "l1.add(9)\n",
        "l1.add(9)\n",
        "\n",
        "l2 = LinkedList()\n",
        "l2.add(9)\n",
        "l2.add(9)\n",
        "l2.add(9)\n",
        "l2.add(9)\n",
        "\n",
        "solution = Solution()\n",
        "solution.addtwoNumbers(l1, l2)"
      ],
      "metadata": {
        "colab": {
          "base_uri": "https://localhost:8080/"
        },
        "outputId": "251bf58c-11ac-416f-fd3c-3395a445bccc",
        "id": "hB194yO9gjNa"
      },
      "execution_count": 18,
      "outputs": [
        {
          "output_type": "stream",
          "name": "stdout",
          "text": [
            "8--->9--->9--->9--->0--->0--->0--->1--->\n"
          ]
        }
      ]
    }
  ]
}