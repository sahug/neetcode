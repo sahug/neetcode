{
  "nbformat": 4,
  "nbformat_minor": 0,
  "metadata": {
    "colab": {
      "name": "Neetcode - Binary Search - Search in Rotated Sorted Array.ipynb",
      "provenance": [],
      "collapsed_sections": [],
      "authorship_tag": "ABX9TyNFBiPXHJ5dbaBcUn481/jc",
      "include_colab_link": true
    },
    "kernelspec": {
      "name": "python3",
      "display_name": "Python 3"
    },
    "language_info": {
      "name": "python"
    }
  },
  "cells": [
    {
      "cell_type": "markdown",
      "metadata": {
        "id": "view-in-github",
        "colab_type": "text"
      },
      "source": [
        "<a href=\"https://colab.research.google.com/github/sahug/neetcode/blob/main/Neetcode%20-%20Binary%20Search%20-%20Search%20in%20Rotated%20Sorted%20Array.ipynb\" target=\"_parent\"><img src=\"https://colab.research.google.com/assets/colab-badge.svg\" alt=\"Open In Colab\"/></a>"
      ]
    },
    {
      "cell_type": "markdown",
      "source": [
        "**Neetcode - Binary Search - Search in Rotated Sorted Array**\n"
      ],
      "metadata": {
        "id": "6nW7FfkgN6dm"
      }
    },
    {
      "cell_type": "markdown",
      "source": [
        "There is an integer array `nums` sorted in **ascending order** (with **distinct** values).\n",
        "\n",
        "Prior to being passed to your function, nums is possibly rotated at an unknown pivot index **k (1 <= k < nums.length)** such that the resulting array is `[nums[k], nums[k+1], ..., nums[n-1], nums[0], nums[1], ..., nums[k-1]]` (**0-indexed**). For example, `[0,1,2,4,5,6,7]` might be rotated at pivot index **3** and become `[4,5,6,7,0,1,2]`.\n",
        "\n",
        "Given the array nums **after** the possible rotation and an integer **target**, return the index of target if it is in nums, or -1 if it is not in **nums**.\n",
        "\n",
        "You must write an algorithm with `O(log n)` runtime complexity.\n",
        "\n",
        "**Example 1:**\n",
        "```\n",
        "Input: nums = [4,5,6,7,0,1,2], target = 0\n",
        "Output: 4\n",
        "```\n",
        "\n",
        "**Example 2:**\n",
        "```\n",
        "Input: nums = [4,5,6,7,0,1,2], target = 3\n",
        "Output: -1\n",
        "```\n",
        "\n",
        "**Example 3:**\n",
        "```\n",
        "Input: nums = [1], target = 0\n",
        "Output: -1\n",
        "```"
      ],
      "metadata": {
        "id": "qdLtXtlMOJWF"
      }
    },
    {
      "cell_type": "code",
      "execution_count": 28,
      "metadata": {
        "id": "HPQX47bpKBWS"
      },
      "outputs": [],
      "source": [
        "import math\n",
        "from typing import List\n",
        "\n",
        "class Solution():\n",
        
        "  def rotatedSortedArray(self, nums: List[int], target: int) -> int:   \n",
        "    l, r = 0, len(nums) - 1\n",
        "    \n",
        "    while l <= r:\n",
        "      mid = (r + l) // 2\n",
        "      if target == nums[mid]:\n",
        "        return mid\n",
        "\n",
        "      # Left sorted portion\n",
        "      if nums[l] <= nums[mid]:\n",
        "        if target > nums[mid] or target < nums[l]:\n",
        "          l = mid + 1\n",
        "        else:\n",
        "          r = mid - 1\n",
        "      # Right sorted portion\n",
        "      else:\n",
        "        if target < nums[mid] or target > nums[r]:\n",
        "          r = mid - 1\n",
        "        else:\n",
        "          l = mid = 1\n",
        "\n",
        "    return -1    "
      ]
    },
    {
      "cell_type": "code",
      "source": [
        "solution = Solution()\n",
        "print(solution.rotatedSortedArray([4,5,6,7,0,1,2], 0))\n",
        "print(solution.rotatedSortedArray([1], 0))\n",
        "print(solution.rotatedSortedArray([4,5,6,7,0,1,2], 6))"
      ],
      "metadata": {
        "colab": {
          "base_uri": "https://localhost:8080/"
        },
        "id": "Fil4vuu_PMK9",
        "outputId": "51f7a3e3-b81a-49a6-a70f-dbf106052171"
      },
      "execution_count": 29,
      "outputs": [
        {
          "output_type": "stream",
          "name": "stdout",
          "text": [
            "4\n",
            "-1\n",
            "2\n"
          ]
        }
      ]
    }
  ]
}
